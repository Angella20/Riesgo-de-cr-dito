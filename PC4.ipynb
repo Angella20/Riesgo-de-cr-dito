{
 "cells": [
  {
   "cell_type": "markdown",
   "id": "a790b8ff",
   "metadata": {},
   "source": [
    "# Aplicación Financiera: Riesgo Crediticio\n",
    "\n",
    "\n",
    "Variables en el modelo:\n",
    "\n",
    "##### Variable Target\n",
    "\n",
    "Se obtiene de la combinación de las variables:\n",
    "\n",
    "- P107E: ¿Ha tenido dificultades que le han impedido cumplir con el cronograma de pagos del crédito o préstamo obtenido? Si/No\n",
    "\n",
    "\n",
    "##### Variables dependientes\n",
    "\n",
    "- P207 : Sexo\n",
    "- P208A : ¿Qué edad tiene en años cumplidos? - En años \n",
    "- P209 1 0 N ¿Cuál es su estado civil o conyugal?    \n",
    "> 1. Conviviente \n",
    "> 2. Casado(a)\n",
    "> 3. Viudo(a)  \n",
    "> 4. Divorciado(a)  \n",
    "> 5. Separado(a)  \n",
    "> 6. Soltero(a)  \n",
    "\n",
    "- P107D4 : ¿Cúal fue el Monto Total del Crédito recibido? N\n",
    "- P524A1 : Ingreso - Ingreso total-monto (S/.)\n",
    "- P523 1 : En su ocupación principal, ¿A Ud. le pagan: \n",
    "> 1. Diario?\n",
    "> 2. Semanal?\n",
    "> 3. Quincenal?\n",
    "> 4. Mensual?  \n",
    "\n",
    "- P301A N ¿Cuál es el último año o grado de estudios y nivel que aprobó? – Nivel educativo     \n",
    "> 1 Sin nivel     \n",
    "> 2  Inicial     \n",
    "> 3 Primaria incompleta     \n",
    "> 4 Primaria completa     \n",
    "> 5 Secundaria incompleta     \n",
    "> 6 Secundaria completa     \n",
    "> 7 Superior no Universitaria Incompleta     \n",
    "> 8 Superior no Universitaria Completa     \n",
    "> 9 Superior Universitaria Incompleta     \n",
    "> 10 Superior Universitaria Completa     \n",
    "> 11 Maestri/Doctorado     \n",
    "> 12 Básica especial \n",
    "\n",
    "- ESTRATO: area urbana/rural\n",
    "- P105A 1 0 N ¿La vivienda que ocupa su hogar es ?     \n",
    "> 1 Alquilada     \n",
    "> 2 Propia, totalmente pagada     \n",
    "> 3 Propia, por invasión     \n",
    "> 4 Propia, comprándola a plazos     \n",
    "> 5 Cedida por el centro de trabajo     \n",
    "> 6 Cedida por otro hogar o institución     \n",
    "> 7 Otra forma   "
   ]
  },
  {
   "cell_type": "code",
   "execution_count": 1,
   "id": "1819fefa",
   "metadata": {},
   "outputs": [],
   "source": [
    "import pandas as pd\n",
    "import numpy as np\n",
    "import matplotlib.pyplot as plt\n",
    "import seaborn as sns # Se basa en Matplotlib y la complementa en el tema de graficos y demás."
   ]
  },
  {
   "cell_type": "code",
   "execution_count": 266,
   "id": "5c58c511",
   "metadata": {},
   "outputs": [
    {
     "name": "stderr",
     "output_type": "stream",
     "text": [
      "C:\\Users\\LENOVO\\anaconda3\\lib\\site-packages\\IPython\\core\\interactiveshell.py:3165: DtypeWarning: Columns (322) have mixed types.Specify dtype option on import or set low_memory=False.\n",
      "  has_raised = await self.run_ast_nodes(code_ast.body, cell_name,\n"
     ]
    },
    {
     "data": {
      "text/plain": [
       "Index(['AÑO', 'MES', 'CONGLOME', 'VIVIENDA', 'HOGAR', 'UBIGEO', 'DOMINIO',\n",
       "       'ESTRATO', 'PERIODO', 'TIPENC',\n",
       "       ...\n",
       "       'FACTOR07', 'FACTOR_P', 'RECHAZO_RAZONES', 'NCONGLOME', 'SUB_CONGLOME',\n",
       "       'CODCCPP', 'NOMCCPP', 'LONGITUD', 'LATITUD', 'ALTITUD'],\n",
       "      dtype='object', length=331)"
      ]
     },
     "execution_count": 266,
     "metadata": {},
     "output_type": "execute_result"
    }
   ],
   "source": [
    "data1=pd.read_csv('Enaho01-2020-100.csv',encoding='latin')\n",
    "data1.columns"
   ]
  },
  {
   "cell_type": "code",
   "execution_count": 267,
   "id": "53c312d5",
   "metadata": {},
   "outputs": [
    {
     "data": {
      "text/html": [
       "<div>\n",
       "<style scoped>\n",
       "    .dataframe tbody tr th:only-of-type {\n",
       "        vertical-align: middle;\n",
       "    }\n",
       "\n",
       "    .dataframe tbody tr th {\n",
       "        vertical-align: top;\n",
       "    }\n",
       "\n",
       "    .dataframe thead th {\n",
       "        text-align: right;\n",
       "    }\n",
       "</style>\n",
       "<table border=\"1\" class=\"dataframe\">\n",
       "  <thead>\n",
       "    <tr style=\"text-align: right;\">\n",
       "      <th></th>\n",
       "      <th>CONGLOME</th>\n",
       "      <th>VIVIENDA</th>\n",
       "      <th>HOGAR</th>\n",
       "      <th>UBIGEO</th>\n",
       "      <th>P107E</th>\n",
       "      <th>P107D4</th>\n",
       "      <th>ESTRATO</th>\n",
       "      <th>P105A</th>\n",
       "    </tr>\n",
       "  </thead>\n",
       "  <tbody>\n",
       "    <tr>\n",
       "      <th>0</th>\n",
       "      <td>5009</td>\n",
       "      <td>12</td>\n",
       "      <td>11</td>\n",
       "      <td>10101</td>\n",
       "      <td></td>\n",
       "      <td></td>\n",
       "      <td>4</td>\n",
       "      <td>6</td>\n",
       "    </tr>\n",
       "    <tr>\n",
       "      <th>1</th>\n",
       "      <td>5009</td>\n",
       "      <td>41</td>\n",
       "      <td>11</td>\n",
       "      <td>10101</td>\n",
       "      <td></td>\n",
       "      <td></td>\n",
       "      <td>4</td>\n",
       "      <td>2</td>\n",
       "    </tr>\n",
       "    <tr>\n",
       "      <th>2</th>\n",
       "      <td>5009</td>\n",
       "      <td>56</td>\n",
       "      <td>11</td>\n",
       "      <td>10101</td>\n",
       "      <td></td>\n",
       "      <td></td>\n",
       "      <td>4</td>\n",
       "      <td></td>\n",
       "    </tr>\n",
       "    <tr>\n",
       "      <th>3</th>\n",
       "      <td>5009</td>\n",
       "      <td>84</td>\n",
       "      <td>11</td>\n",
       "      <td>10101</td>\n",
       "      <td></td>\n",
       "      <td></td>\n",
       "      <td>4</td>\n",
       "      <td></td>\n",
       "    </tr>\n",
       "    <tr>\n",
       "      <th>4</th>\n",
       "      <td>5009</td>\n",
       "      <td>98</td>\n",
       "      <td>11</td>\n",
       "      <td>10101</td>\n",
       "      <td></td>\n",
       "      <td></td>\n",
       "      <td>4</td>\n",
       "      <td>1</td>\n",
       "    </tr>\n",
       "  </tbody>\n",
       "</table>\n",
       "</div>"
      ],
      "text/plain": [
       "   CONGLOME  VIVIENDA  HOGAR  UBIGEO P107E P107D4  ESTRATO P105A\n",
       "0      5009        12     11   10101                     4     6\n",
       "1      5009        41     11   10101                     4     2\n",
       "2      5009        56     11   10101                     4      \n",
       "3      5009        84     11   10101                     4      \n",
       "4      5009        98     11   10101                     4     1"
      ]
     },
     "execution_count": 267,
     "metadata": {},
     "output_type": "execute_result"
    }
   ],
   "source": [
    "data1 = data1[['CONGLOME','VIVIENDA','HOGAR','UBIGEO',\"P107E\",\"P107D4\",\"ESTRATO\",\"P105A\"]]\n",
    "data1.head()"
   ]
  },
  {
   "cell_type": "code",
   "execution_count": 4,
   "id": "631e28e8",
   "metadata": {},
   "outputs": [
    {
     "name": "stderr",
     "output_type": "stream",
     "text": [
      "C:\\Users\\LENOVO\\anaconda3\\lib\\site-packages\\IPython\\core\\interactiveshell.py:3165: DtypeWarning: Columns (40) have mixed types.Specify dtype option on import or set low_memory=False.\n",
      "  has_raised = await self.run_ast_nodes(code_ast.body, cell_name,\n"
     ]
    },
    {
     "data": {
      "text/plain": [
       "Index(['AÑO', 'MES', 'CONGLOME', 'VIVIENDA', 'HOGAR', 'CODPERSO', 'UBIGEO',\n",
       "       'DOMINIO', 'ESTRATO', 'P201P', 'P203', 'P203A', 'P203B', 'P204', 'P205',\n",
       "       'P206', 'P207', 'P208A', 'P208B', 'P209', 'P210', 'P211A', 'P211D',\n",
       "       'P212', 'P213', 'P214', 'P215', 'P216', 'P217', 'T211', 'OCUPAC_R3',\n",
       "       'OCUPAC_R4', 'RAMA_R3', 'RAMA_R4', 'CODTAREA', 'CODTIEMPO', 'TICUEST01',\n",
       "       'TIPOCUESTIONARIO', 'TIPOENTREVISTA', 'FACPOB07', 'FACTOR_P',\n",
       "       'NCONGLOME', 'SUB_CONGLOME'],\n",
       "      dtype='object')"
      ]
     },
     "execution_count": 4,
     "metadata": {},
     "output_type": "execute_result"
    }
   ],
   "source": [
    "data2=pd.read_csv('Enaho01-2020-200.csv',encoding='latin')\n",
    "data2.columns"
   ]
  },
  {
   "cell_type": "code",
   "execution_count": 5,
   "id": "32375a35",
   "metadata": {},
   "outputs": [
    {
     "data": {
      "text/html": [
       "<div>\n",
       "<style scoped>\n",
       "    .dataframe tbody tr th:only-of-type {\n",
       "        vertical-align: middle;\n",
       "    }\n",
       "\n",
       "    .dataframe tbody tr th {\n",
       "        vertical-align: top;\n",
       "    }\n",
       "\n",
       "    .dataframe thead th {\n",
       "        text-align: right;\n",
       "    }\n",
       "</style>\n",
       "<table border=\"1\" class=\"dataframe\">\n",
       "  <thead>\n",
       "    <tr style=\"text-align: right;\">\n",
       "      <th></th>\n",
       "      <th>CONGLOME</th>\n",
       "      <th>VIVIENDA</th>\n",
       "      <th>HOGAR</th>\n",
       "      <th>UBIGEO</th>\n",
       "      <th>P207</th>\n",
       "      <th>P208A</th>\n",
       "      <th>P209</th>\n",
       "    </tr>\n",
       "  </thead>\n",
       "  <tbody>\n",
       "    <tr>\n",
       "      <th>0</th>\n",
       "      <td>5009</td>\n",
       "      <td>12</td>\n",
       "      <td>11</td>\n",
       "      <td>10101</td>\n",
       "      <td>2</td>\n",
       "      <td>49</td>\n",
       "      <td>5</td>\n",
       "    </tr>\n",
       "    <tr>\n",
       "      <th>1</th>\n",
       "      <td>5009</td>\n",
       "      <td>12</td>\n",
       "      <td>11</td>\n",
       "      <td>10101</td>\n",
       "      <td>2</td>\n",
       "      <td>16</td>\n",
       "      <td>6</td>\n",
       "    </tr>\n",
       "    <tr>\n",
       "      <th>2</th>\n",
       "      <td>5009</td>\n",
       "      <td>41</td>\n",
       "      <td>11</td>\n",
       "      <td>10101</td>\n",
       "      <td>2</td>\n",
       "      <td>61</td>\n",
       "      <td>6</td>\n",
       "    </tr>\n",
       "    <tr>\n",
       "      <th>3</th>\n",
       "      <td>5009</td>\n",
       "      <td>41</td>\n",
       "      <td>11</td>\n",
       "      <td>10101</td>\n",
       "      <td>2</td>\n",
       "      <td>29</td>\n",
       "      <td>6</td>\n",
       "    </tr>\n",
       "    <tr>\n",
       "      <th>4</th>\n",
       "      <td>5009</td>\n",
       "      <td>41</td>\n",
       "      <td>11</td>\n",
       "      <td>10101</td>\n",
       "      <td>2</td>\n",
       "      <td>10</td>\n",
       "      <td></td>\n",
       "    </tr>\n",
       "  </tbody>\n",
       "</table>\n",
       "</div>"
      ],
      "text/plain": [
       "   CONGLOME  VIVIENDA  HOGAR  UBIGEO P207 P208A P209\n",
       "0      5009        12     11   10101    2    49    5\n",
       "1      5009        12     11   10101    2    16    6\n",
       "2      5009        41     11   10101    2    61    6\n",
       "3      5009        41     11   10101    2    29    6\n",
       "4      5009        41     11   10101    2    10     "
      ]
     },
     "execution_count": 5,
     "metadata": {},
     "output_type": "execute_result"
    }
   ],
   "source": [
    "data2 = data2[['CONGLOME','VIVIENDA','HOGAR','UBIGEO',\"P207\",\"P208A\",\"P209\"]]\n",
    "data2.head()"
   ]
  },
  {
   "cell_type": "code",
   "execution_count": 6,
   "id": "e5e9d0eb",
   "metadata": {},
   "outputs": [
    {
     "name": "stderr",
     "output_type": "stream",
     "text": [
      "C:\\Users\\LENOVO\\anaconda3\\lib\\site-packages\\IPython\\core\\interactiveshell.py:3165: DtypeWarning: Columns (12,13,26,32,59,130,296,311,559,560,565) have mixed types.Specify dtype option on import or set low_memory=False.\n",
      "  has_raised = await self.run_ast_nodes(code_ast.body, cell_name,\n"
     ]
    },
    {
     "data": {
      "text/plain": [
       "Index(['AÑO', 'MES', 'CONGLOME', 'VIVIENDA', 'HOGAR', 'CODPERSO', 'UBIGEO',\n",
       "       'DOMINIO', 'ESTRATO', 'CODINFOR',\n",
       "       ...\n",
       "       'I3120C', 'NIVEL', 'TICUEST01A', 'TIPOCUESTIONARIO', 'TIPOENTREVISTA',\n",
       "       'FACTOR07', 'FACTORA07', 'FACTORA_P', 'NCONGLOME', 'SUB_CONGLOME'],\n",
       "      dtype='object', length=568)"
      ]
     },
     "execution_count": 6,
     "metadata": {},
     "output_type": "execute_result"
    }
   ],
   "source": [
    "data3=pd.read_csv('Enaho01A-2020-300.csv',encoding='latin')\n",
    "data3.columns"
   ]
  },
  {
   "cell_type": "code",
   "execution_count": 7,
   "id": "253245de",
   "metadata": {},
   "outputs": [
    {
     "data": {
      "text/html": [
       "<div>\n",
       "<style scoped>\n",
       "    .dataframe tbody tr th:only-of-type {\n",
       "        vertical-align: middle;\n",
       "    }\n",
       "\n",
       "    .dataframe tbody tr th {\n",
       "        vertical-align: top;\n",
       "    }\n",
       "\n",
       "    .dataframe thead th {\n",
       "        text-align: right;\n",
       "    }\n",
       "</style>\n",
       "<table border=\"1\" class=\"dataframe\">\n",
       "  <thead>\n",
       "    <tr style=\"text-align: right;\">\n",
       "      <th></th>\n",
       "      <th>CONGLOME</th>\n",
       "      <th>VIVIENDA</th>\n",
       "      <th>HOGAR</th>\n",
       "      <th>UBIGEO</th>\n",
       "      <th>P301A</th>\n",
       "    </tr>\n",
       "  </thead>\n",
       "  <tbody>\n",
       "    <tr>\n",
       "      <th>0</th>\n",
       "      <td>5009</td>\n",
       "      <td>12</td>\n",
       "      <td>11</td>\n",
       "      <td>10101</td>\n",
       "      <td>6</td>\n",
       "    </tr>\n",
       "    <tr>\n",
       "      <th>1</th>\n",
       "      <td>5009</td>\n",
       "      <td>12</td>\n",
       "      <td>11</td>\n",
       "      <td>10101</td>\n",
       "      <td>6</td>\n",
       "    </tr>\n",
       "    <tr>\n",
       "      <th>2</th>\n",
       "      <td>5009</td>\n",
       "      <td>41</td>\n",
       "      <td>11</td>\n",
       "      <td>10101</td>\n",
       "      <td>1</td>\n",
       "    </tr>\n",
       "    <tr>\n",
       "      <th>3</th>\n",
       "      <td>5009</td>\n",
       "      <td>41</td>\n",
       "      <td>11</td>\n",
       "      <td>10101</td>\n",
       "      <td>10</td>\n",
       "    </tr>\n",
       "    <tr>\n",
       "      <th>4</th>\n",
       "      <td>5009</td>\n",
       "      <td>98</td>\n",
       "      <td>11</td>\n",
       "      <td>10101</td>\n",
       "      <td>5</td>\n",
       "    </tr>\n",
       "  </tbody>\n",
       "</table>\n",
       "</div>"
      ],
      "text/plain": [
       "   CONGLOME  VIVIENDA  HOGAR  UBIGEO P301A\n",
       "0      5009        12     11   10101     6\n",
       "1      5009        12     11   10101     6\n",
       "2      5009        41     11   10101     1\n",
       "3      5009        41     11   10101    10\n",
       "4      5009        98     11   10101     5"
      ]
     },
     "execution_count": 7,
     "metadata": {},
     "output_type": "execute_result"
    }
   ],
   "source": [
    "data3= data3[['CONGLOME','VIVIENDA','HOGAR','UBIGEO',\"P301A\"]]\n",
    "data3.head()"
   ]
  },
  {
   "cell_type": "code",
   "execution_count": 8,
   "id": "b89af31b",
   "metadata": {},
   "outputs": [
    {
     "name": "stderr",
     "output_type": "stream",
     "text": [
      "C:\\Users\\LENOVO\\anaconda3\\lib\\site-packages\\IPython\\core\\interactiveshell.py:3165: DtypeWarning: Columns (229,234,239,247,252,257,262,267,272,277,282,287,292,297,302,307,311,316,320,325,329,334,341,344,347,350,353,356,359,362,365,366,367,369,371,373,375,377,379,381,382,383,384,385,386,387,391,484,485,486,487,934,935,936,937,938,939,940,941,942,943,1014,1017,1022,1408) have mixed types.Specify dtype option on import or set low_memory=False.\n",
      "  has_raised = await self.run_ast_nodes(code_ast.body, cell_name,\n"
     ]
    },
    {
     "data": {
      "text/plain": [
       "Index(['AÑO', 'MES', 'CONGLOME', 'VIVIENDA', 'HOGAR', 'CODPERSO', 'UBIGEO',\n",
       "       'DOMINIO', 'ESTRATO', 'CODINFOR',\n",
       "       ...\n",
       "       'OCU500', 'OCUPINF', 'EMPLPSEC', 'FAC500A', 'FAC500_P', 'TICUEST01A',\n",
       "       'TIPOCUESTIONARIO', 'TIPOENTREVISTA', 'NCONGLOME', 'SUB_CONGLOME'],\n",
       "      dtype='object', length=1414)"
      ]
     },
     "execution_count": 8,
     "metadata": {},
     "output_type": "execute_result"
    }
   ],
   "source": [
    "data5=pd.read_csv('Enaho01A-2020-500.csv',encoding='latin')\n",
    "data5.columns"
   ]
  },
  {
   "cell_type": "code",
   "execution_count": 9,
   "id": "88ce461d",
   "metadata": {},
   "outputs": [
    {
     "data": {
      "text/html": [
       "<div>\n",
       "<style scoped>\n",
       "    .dataframe tbody tr th:only-of-type {\n",
       "        vertical-align: middle;\n",
       "    }\n",
       "\n",
       "    .dataframe tbody tr th {\n",
       "        vertical-align: top;\n",
       "    }\n",
       "\n",
       "    .dataframe thead th {\n",
       "        text-align: right;\n",
       "    }\n",
       "</style>\n",
       "<table border=\"1\" class=\"dataframe\">\n",
       "  <thead>\n",
       "    <tr style=\"text-align: right;\">\n",
       "      <th></th>\n",
       "      <th>CONGLOME</th>\n",
       "      <th>VIVIENDA</th>\n",
       "      <th>HOGAR</th>\n",
       "      <th>UBIGEO</th>\n",
       "      <th>P524A1</th>\n",
       "      <th>P523</th>\n",
       "    </tr>\n",
       "  </thead>\n",
       "  <tbody>\n",
       "    <tr>\n",
       "      <th>0</th>\n",
       "      <td>5009</td>\n",
       "      <td>12</td>\n",
       "      <td>11</td>\n",
       "      <td>10101</td>\n",
       "      <td></td>\n",
       "      <td></td>\n",
       "    </tr>\n",
       "    <tr>\n",
       "      <th>1</th>\n",
       "      <td>5009</td>\n",
       "      <td>12</td>\n",
       "      <td>11</td>\n",
       "      <td>10101</td>\n",
       "      <td></td>\n",
       "      <td></td>\n",
       "    </tr>\n",
       "    <tr>\n",
       "      <th>2</th>\n",
       "      <td>5009</td>\n",
       "      <td>41</td>\n",
       "      <td>11</td>\n",
       "      <td>10101</td>\n",
       "      <td></td>\n",
       "      <td></td>\n",
       "    </tr>\n",
       "    <tr>\n",
       "      <th>3</th>\n",
       "      <td>5009</td>\n",
       "      <td>41</td>\n",
       "      <td>11</td>\n",
       "      <td>10101</td>\n",
       "      <td>200</td>\n",
       "      <td>4</td>\n",
       "    </tr>\n",
       "    <tr>\n",
       "      <th>4</th>\n",
       "      <td>5009</td>\n",
       "      <td>98</td>\n",
       "      <td>11</td>\n",
       "      <td>10101</td>\n",
       "      <td></td>\n",
       "      <td></td>\n",
       "    </tr>\n",
       "  </tbody>\n",
       "</table>\n",
       "</div>"
      ],
      "text/plain": [
       "   CONGLOME  VIVIENDA  HOGAR  UBIGEO P524A1 P523\n",
       "0      5009        12     11   10101            \n",
       "1      5009        12     11   10101            \n",
       "2      5009        41     11   10101            \n",
       "3      5009        41     11   10101    200    4\n",
       "4      5009        98     11   10101            "
      ]
     },
     "execution_count": 9,
     "metadata": {},
     "output_type": "execute_result"
    }
   ],
   "source": [
    "data5= data5[['CONGLOME','VIVIENDA','HOGAR','UBIGEO',\"P524A1\",\"P523\"]]\n",
    "data5.head()"
   ]
  },
  {
   "cell_type": "code",
   "execution_count": 268,
   "id": "37f2bf31",
   "metadata": {},
   "outputs": [],
   "source": [
    "d1 = pd.merge(data1, data2, on=['CONGLOME','VIVIENDA','HOGAR','UBIGEO'])"
   ]
  },
  {
   "cell_type": "code",
   "execution_count": 269,
   "id": "d3b8a32a",
   "metadata": {},
   "outputs": [],
   "source": [
    "d2 = pd.merge(d1, data3,  on=['CONGLOME','VIVIENDA','HOGAR','UBIGEO'])"
   ]
  },
  {
   "cell_type": "code",
   "execution_count": 270,
   "id": "0a9fa668",
   "metadata": {},
   "outputs": [
    {
     "data": {
      "text/html": [
       "<div>\n",
       "<style scoped>\n",
       "    .dataframe tbody tr th:only-of-type {\n",
       "        vertical-align: middle;\n",
       "    }\n",
       "\n",
       "    .dataframe tbody tr th {\n",
       "        vertical-align: top;\n",
       "    }\n",
       "\n",
       "    .dataframe thead th {\n",
       "        text-align: right;\n",
       "    }\n",
       "</style>\n",
       "<table border=\"1\" class=\"dataframe\">\n",
       "  <thead>\n",
       "    <tr style=\"text-align: right;\">\n",
       "      <th></th>\n",
       "      <th>CONGLOME</th>\n",
       "      <th>VIVIENDA</th>\n",
       "      <th>HOGAR</th>\n",
       "      <th>UBIGEO</th>\n",
       "      <th>P107E</th>\n",
       "      <th>P107D4</th>\n",
       "      <th>ESTRATO</th>\n",
       "      <th>P105A</th>\n",
       "      <th>P207</th>\n",
       "      <th>P208A</th>\n",
       "      <th>P209</th>\n",
       "      <th>P301A</th>\n",
       "      <th>P524A1</th>\n",
       "      <th>P523</th>\n",
       "    </tr>\n",
       "  </thead>\n",
       "  <tbody>\n",
       "    <tr>\n",
       "      <th>0</th>\n",
       "      <td>5009</td>\n",
       "      <td>12</td>\n",
       "      <td>11</td>\n",
       "      <td>10101</td>\n",
       "      <td></td>\n",
       "      <td></td>\n",
       "      <td>4</td>\n",
       "      <td>6</td>\n",
       "      <td>2</td>\n",
       "      <td>49</td>\n",
       "      <td>5</td>\n",
       "      <td>6</td>\n",
       "      <td></td>\n",
       "      <td></td>\n",
       "    </tr>\n",
       "    <tr>\n",
       "      <th>1</th>\n",
       "      <td>5009</td>\n",
       "      <td>12</td>\n",
       "      <td>11</td>\n",
       "      <td>10101</td>\n",
       "      <td></td>\n",
       "      <td></td>\n",
       "      <td>4</td>\n",
       "      <td>6</td>\n",
       "      <td>2</td>\n",
       "      <td>49</td>\n",
       "      <td>5</td>\n",
       "      <td>6</td>\n",
       "      <td></td>\n",
       "      <td></td>\n",
       "    </tr>\n",
       "    <tr>\n",
       "      <th>2</th>\n",
       "      <td>5009</td>\n",
       "      <td>12</td>\n",
       "      <td>11</td>\n",
       "      <td>10101</td>\n",
       "      <td></td>\n",
       "      <td></td>\n",
       "      <td>4</td>\n",
       "      <td>6</td>\n",
       "      <td>2</td>\n",
       "      <td>49</td>\n",
       "      <td>5</td>\n",
       "      <td>6</td>\n",
       "      <td></td>\n",
       "      <td></td>\n",
       "    </tr>\n",
       "    <tr>\n",
       "      <th>3</th>\n",
       "      <td>5009</td>\n",
       "      <td>12</td>\n",
       "      <td>11</td>\n",
       "      <td>10101</td>\n",
       "      <td></td>\n",
       "      <td></td>\n",
       "      <td>4</td>\n",
       "      <td>6</td>\n",
       "      <td>2</td>\n",
       "      <td>49</td>\n",
       "      <td>5</td>\n",
       "      <td>6</td>\n",
       "      <td></td>\n",
       "      <td></td>\n",
       "    </tr>\n",
       "    <tr>\n",
       "      <th>4</th>\n",
       "      <td>5009</td>\n",
       "      <td>12</td>\n",
       "      <td>11</td>\n",
       "      <td>10101</td>\n",
       "      <td></td>\n",
       "      <td></td>\n",
       "      <td>4</td>\n",
       "      <td>6</td>\n",
       "      <td>2</td>\n",
       "      <td>16</td>\n",
       "      <td>6</td>\n",
       "      <td>6</td>\n",
       "      <td></td>\n",
       "      <td></td>\n",
       "    </tr>\n",
       "    <tr>\n",
       "      <th>...</th>\n",
       "      <td>...</td>\n",
       "      <td>...</td>\n",
       "      <td>...</td>\n",
       "      <td>...</td>\n",
       "      <td>...</td>\n",
       "      <td>...</td>\n",
       "      <td>...</td>\n",
       "      <td>...</td>\n",
       "      <td>...</td>\n",
       "      <td>...</td>\n",
       "      <td>...</td>\n",
       "      <td>...</td>\n",
       "      <td>...</td>\n",
       "      <td>...</td>\n",
       "    </tr>\n",
       "    <tr>\n",
       "      <th>1958030</th>\n",
       "      <td>20305</td>\n",
       "      <td>137</td>\n",
       "      <td>11</td>\n",
       "      <td>250301</td>\n",
       "      <td></td>\n",
       "      <td></td>\n",
       "      <td>4</td>\n",
       "      <td>6</td>\n",
       "      <td>2</td>\n",
       "      <td>6</td>\n",
       "      <td></td>\n",
       "      <td>6</td>\n",
       "      <td>150</td>\n",
       "      <td>2</td>\n",
       "    </tr>\n",
       "    <tr>\n",
       "      <th>1958031</th>\n",
       "      <td>20305</td>\n",
       "      <td>137</td>\n",
       "      <td>11</td>\n",
       "      <td>250301</td>\n",
       "      <td></td>\n",
       "      <td></td>\n",
       "      <td>4</td>\n",
       "      <td>6</td>\n",
       "      <td>2</td>\n",
       "      <td>6</td>\n",
       "      <td></td>\n",
       "      <td>3</td>\n",
       "      <td>150</td>\n",
       "      <td>2</td>\n",
       "    </tr>\n",
       "    <tr>\n",
       "      <th>1958032</th>\n",
       "      <td>20305</td>\n",
       "      <td>137</td>\n",
       "      <td>11</td>\n",
       "      <td>250301</td>\n",
       "      <td></td>\n",
       "      <td></td>\n",
       "      <td>4</td>\n",
       "      <td>6</td>\n",
       "      <td>2</td>\n",
       "      <td>6</td>\n",
       "      <td></td>\n",
       "      <td>3</td>\n",
       "      <td>150</td>\n",
       "      <td>2</td>\n",
       "    </tr>\n",
       "    <tr>\n",
       "      <th>1958033</th>\n",
       "      <td>20305</td>\n",
       "      <td>137</td>\n",
       "      <td>11</td>\n",
       "      <td>250301</td>\n",
       "      <td></td>\n",
       "      <td></td>\n",
       "      <td>4</td>\n",
       "      <td>6</td>\n",
       "      <td>2</td>\n",
       "      <td>6</td>\n",
       "      <td></td>\n",
       "      <td>2</td>\n",
       "      <td>150</td>\n",
       "      <td>2</td>\n",
       "    </tr>\n",
       "    <tr>\n",
       "      <th>1958034</th>\n",
       "      <td>20305</td>\n",
       "      <td>137</td>\n",
       "      <td>11</td>\n",
       "      <td>250301</td>\n",
       "      <td></td>\n",
       "      <td></td>\n",
       "      <td>4</td>\n",
       "      <td>6</td>\n",
       "      <td>2</td>\n",
       "      <td>6</td>\n",
       "      <td></td>\n",
       "      <td>2</td>\n",
       "      <td>150</td>\n",
       "      <td>2</td>\n",
       "    </tr>\n",
       "  </tbody>\n",
       "</table>\n",
       "<p>1958035 rows × 14 columns</p>\n",
       "</div>"
      ],
      "text/plain": [
       "         CONGLOME  VIVIENDA  HOGAR  UBIGEO P107E P107D4  ESTRATO P105A P207  \\\n",
       "0            5009        12     11   10101                     4     6    2   \n",
       "1            5009        12     11   10101                     4     6    2   \n",
       "2            5009        12     11   10101                     4     6    2   \n",
       "3            5009        12     11   10101                     4     6    2   \n",
       "4            5009        12     11   10101                     4     6    2   \n",
       "...           ...       ...    ...     ...   ...    ...      ...   ...  ...   \n",
       "1958030     20305       137     11  250301                     4     6    2   \n",
       "1958031     20305       137     11  250301                     4     6    2   \n",
       "1958032     20305       137     11  250301                     4     6    2   \n",
       "1958033     20305       137     11  250301                     4     6    2   \n",
       "1958034     20305       137     11  250301                     4     6    2   \n",
       "\n",
       "        P208A P209 P301A P524A1 P523  \n",
       "0          49    5     6              \n",
       "1          49    5     6              \n",
       "2          49    5     6              \n",
       "3          49    5     6              \n",
       "4          16    6     6              \n",
       "...       ...  ...   ...    ...  ...  \n",
       "1958030     6          6    150    2  \n",
       "1958031     6          3    150    2  \n",
       "1958032     6          3    150    2  \n",
       "1958033     6          2    150    2  \n",
       "1958034     6          2    150    2  \n",
       "\n",
       "[1958035 rows x 14 columns]"
      ]
     },
     "execution_count": 270,
     "metadata": {},
     "output_type": "execute_result"
    }
   ],
   "source": [
    "d3 = pd.merge(d2, data5,  on=['CONGLOME','VIVIENDA','HOGAR','UBIGEO'])\n",
    "d3"
   ]
  },
  {
   "cell_type": "code",
   "execution_count": 271,
   "id": "8f432987",
   "metadata": {},
   "outputs": [],
   "source": [
    "d3 = d3.rename(columns = {'P107E':'prob_pago',\n",
    "                           'P107D4': 'MONTO_CREDITO',\n",
    " 'P207': 'SEXO',\n",
    " 'P208A': 'EDAD',\n",
    " 'P209': 'ESTADO_CIVIL',\n",
    " 'P301A': 'EDUCACION',\n",
    " 'P524A1': 'INGRESO',\n",
    " 'P523': 'INGRESO_T',\n",
    "'P105A': \"T_VIVIENDA\"\n",
    "})\n"
   ]
  },
  {
   "cell_type": "code",
   "execution_count": 272,
   "id": "6475eaaa",
   "metadata": {},
   "outputs": [
    {
     "data": {
      "text/html": [
       "<div>\n",
       "<style scoped>\n",
       "    .dataframe tbody tr th:only-of-type {\n",
       "        vertical-align: middle;\n",
       "    }\n",
       "\n",
       "    .dataframe tbody tr th {\n",
       "        vertical-align: top;\n",
       "    }\n",
       "\n",
       "    .dataframe thead th {\n",
       "        text-align: right;\n",
       "    }\n",
       "</style>\n",
       "<table border=\"1\" class=\"dataframe\">\n",
       "  <thead>\n",
       "    <tr style=\"text-align: right;\">\n",
       "      <th></th>\n",
       "      <th>CONGLOME</th>\n",
       "      <th>VIVIENDA</th>\n",
       "      <th>HOGAR</th>\n",
       "      <th>UBIGEO</th>\n",
       "      <th>prob_pago</th>\n",
       "      <th>MONTO_CREDITO</th>\n",
       "      <th>ESTRATO</th>\n",
       "      <th>T_VIVIENDA</th>\n",
       "      <th>SEXO</th>\n",
       "      <th>EDAD</th>\n",
       "      <th>ESTADO_CIVIL</th>\n",
       "      <th>EDUCACION</th>\n",
       "      <th>INGRESO</th>\n",
       "      <th>INGRESO_T</th>\n",
       "    </tr>\n",
       "  </thead>\n",
       "  <tbody>\n",
       "    <tr>\n",
       "      <th>0</th>\n",
       "      <td>5009</td>\n",
       "      <td>12</td>\n",
       "      <td>11</td>\n",
       "      <td>10101</td>\n",
       "      <td></td>\n",
       "      <td></td>\n",
       "      <td>4</td>\n",
       "      <td>6</td>\n",
       "      <td>2</td>\n",
       "      <td>49</td>\n",
       "      <td>5</td>\n",
       "      <td>6</td>\n",
       "      <td></td>\n",
       "      <td></td>\n",
       "    </tr>\n",
       "    <tr>\n",
       "      <th>1</th>\n",
       "      <td>5009</td>\n",
       "      <td>12</td>\n",
       "      <td>11</td>\n",
       "      <td>10101</td>\n",
       "      <td></td>\n",
       "      <td></td>\n",
       "      <td>4</td>\n",
       "      <td>6</td>\n",
       "      <td>2</td>\n",
       "      <td>49</td>\n",
       "      <td>5</td>\n",
       "      <td>6</td>\n",
       "      <td></td>\n",
       "      <td></td>\n",
       "    </tr>\n",
       "    <tr>\n",
       "      <th>2</th>\n",
       "      <td>5009</td>\n",
       "      <td>12</td>\n",
       "      <td>11</td>\n",
       "      <td>10101</td>\n",
       "      <td></td>\n",
       "      <td></td>\n",
       "      <td>4</td>\n",
       "      <td>6</td>\n",
       "      <td>2</td>\n",
       "      <td>49</td>\n",
       "      <td>5</td>\n",
       "      <td>6</td>\n",
       "      <td></td>\n",
       "      <td></td>\n",
       "    </tr>\n",
       "    <tr>\n",
       "      <th>3</th>\n",
       "      <td>5009</td>\n",
       "      <td>12</td>\n",
       "      <td>11</td>\n",
       "      <td>10101</td>\n",
       "      <td></td>\n",
       "      <td></td>\n",
       "      <td>4</td>\n",
       "      <td>6</td>\n",
       "      <td>2</td>\n",
       "      <td>49</td>\n",
       "      <td>5</td>\n",
       "      <td>6</td>\n",
       "      <td></td>\n",
       "      <td></td>\n",
       "    </tr>\n",
       "    <tr>\n",
       "      <th>4</th>\n",
       "      <td>5009</td>\n",
       "      <td>12</td>\n",
       "      <td>11</td>\n",
       "      <td>10101</td>\n",
       "      <td></td>\n",
       "      <td></td>\n",
       "      <td>4</td>\n",
       "      <td>6</td>\n",
       "      <td>2</td>\n",
       "      <td>16</td>\n",
       "      <td>6</td>\n",
       "      <td>6</td>\n",
       "      <td></td>\n",
       "      <td></td>\n",
       "    </tr>\n",
       "  </tbody>\n",
       "</table>\n",
       "</div>"
      ],
      "text/plain": [
       "   CONGLOME  VIVIENDA  HOGAR  UBIGEO prob_pago MONTO_CREDITO  ESTRATO  \\\n",
       "0      5009        12     11   10101                                4   \n",
       "1      5009        12     11   10101                                4   \n",
       "2      5009        12     11   10101                                4   \n",
       "3      5009        12     11   10101                                4   \n",
       "4      5009        12     11   10101                                4   \n",
       "\n",
       "  T_VIVIENDA SEXO EDAD ESTADO_CIVIL EDUCACION INGRESO INGRESO_T  \n",
       "0          6    2   49            5         6                    \n",
       "1          6    2   49            5         6                    \n",
       "2          6    2   49            5         6                    \n",
       "3          6    2   49            5         6                    \n",
       "4          6    2   16            6         6                    "
      ]
     },
     "execution_count": 272,
     "metadata": {},
     "output_type": "execute_result"
    }
   ],
   "source": [
    "d3.head()"
   ]
  },
  {
   "cell_type": "code",
   "execution_count": 273,
   "id": "8f2d9ec8",
   "metadata": {},
   "outputs": [
    {
     "data": {
      "text/plain": [
       "CONGLOME          int64\n",
       "VIVIENDA          int64\n",
       "HOGAR             int64\n",
       "UBIGEO            int64\n",
       "prob_pago        object\n",
       "MONTO_CREDITO    object\n",
       "ESTRATO           int64\n",
       "T_VIVIENDA       object\n",
       "SEXO             object\n",
       "EDAD             object\n",
       "ESTADO_CIVIL     object\n",
       "EDUCACION        object\n",
       "INGRESO          object\n",
       "INGRESO_T        object\n",
       "dtype: object"
      ]
     },
     "execution_count": 273,
     "metadata": {},
     "output_type": "execute_result"
    }
   ],
   "source": [
    "d3.dtypes"
   ]
  },
  {
   "cell_type": "markdown",
   "id": "80034e52",
   "metadata": {},
   "source": [
    "## Convertir mis variables objetos a numeric"
   ]
  },
  {
   "cell_type": "code",
   "execution_count": 274,
   "id": "eb74c287",
   "metadata": {},
   "outputs": [
    {
     "data": {
      "text/plain": [
       "0   NaN\n",
       "1   NaN\n",
       "2   NaN\n",
       "3   NaN\n",
       "4   NaN\n",
       "Name: MONTO_CREDITO, dtype: float64"
      ]
     },
     "execution_count": 274,
     "metadata": {},
     "output_type": "execute_result"
    }
   ],
   "source": [
    "d3['MONTO_CREDITO']=pd.to_numeric(d3['MONTO_CREDITO'], errors='coerce')\n",
    "d3['MONTO_CREDITO'].head()"
   ]
  },
  {
   "cell_type": "code",
   "execution_count": 275,
   "id": "47098434",
   "metadata": {},
   "outputs": [
    {
     "data": {
      "text/plain": [
       "0    49.0\n",
       "1    49.0\n",
       "2    49.0\n",
       "3    49.0\n",
       "4    16.0\n",
       "Name: EDAD, dtype: float64"
      ]
     },
     "execution_count": 275,
     "metadata": {},
     "output_type": "execute_result"
    }
   ],
   "source": [
    "d3['EDAD']=pd.to_numeric(d3['EDAD'], errors='coerce')\n",
    "d3['EDAD'].head()"
   ]
  },
  {
   "cell_type": "code",
   "execution_count": 276,
   "id": "7c3f104a",
   "metadata": {},
   "outputs": [
    {
     "data": {
      "text/plain": [
       "0   NaN\n",
       "1   NaN\n",
       "2   NaN\n",
       "3   NaN\n",
       "4   NaN\n",
       "Name: INGRESO, dtype: float64"
      ]
     },
     "execution_count": 276,
     "metadata": {},
     "output_type": "execute_result"
    }
   ],
   "source": [
    "d3['INGRESO']=pd.to_numeric(d3['INGRESO'], errors='coerce')\n",
    "d3['INGRESO'].head()"
   ]
  },
  {
   "cell_type": "markdown",
   "id": "84561eaa",
   "metadata": {},
   "source": [
    "## Filtro a los NAs"
   ]
  },
  {
   "cell_type": "code",
   "execution_count": 277,
   "id": "de2782c8",
   "metadata": {},
   "outputs": [
    {
     "data": {
      "text/html": [
       "<div>\n",
       "<style scoped>\n",
       "    .dataframe tbody tr th:only-of-type {\n",
       "        vertical-align: middle;\n",
       "    }\n",
       "\n",
       "    .dataframe tbody tr th {\n",
       "        vertical-align: top;\n",
       "    }\n",
       "\n",
       "    .dataframe thead th {\n",
       "        text-align: right;\n",
       "    }\n",
       "</style>\n",
       "<table border=\"1\" class=\"dataframe\">\n",
       "  <thead>\n",
       "    <tr style=\"text-align: right;\">\n",
       "      <th></th>\n",
       "      <th>CONGLOME</th>\n",
       "      <th>VIVIENDA</th>\n",
       "      <th>HOGAR</th>\n",
       "      <th>UBIGEO</th>\n",
       "      <th>prob_pago</th>\n",
       "      <th>MONTO_CREDITO</th>\n",
       "      <th>ESTRATO</th>\n",
       "      <th>T_VIVIENDA</th>\n",
       "      <th>SEXO</th>\n",
       "      <th>EDAD</th>\n",
       "      <th>ESTADO_CIVIL</th>\n",
       "      <th>EDUCACION</th>\n",
       "      <th>INGRESO</th>\n",
       "      <th>INGRESO_T</th>\n",
       "    </tr>\n",
       "  </thead>\n",
       "  <tbody>\n",
       "    <tr>\n",
       "      <th>1953801</th>\n",
       "      <td>19710</td>\n",
       "      <td>44</td>\n",
       "      <td>11</td>\n",
       "      <td>220405</td>\n",
       "      <td>2</td>\n",
       "      <td>2000.0</td>\n",
       "      <td>6</td>\n",
       "      <td>2</td>\n",
       "      <td>1</td>\n",
       "      <td>16.0</td>\n",
       "      <td>6</td>\n",
       "      <td>2</td>\n",
       "      <td>210.0</td>\n",
       "      <td>2</td>\n",
       "    </tr>\n",
       "    <tr>\n",
       "      <th>1953804</th>\n",
       "      <td>19710</td>\n",
       "      <td>44</td>\n",
       "      <td>11</td>\n",
       "      <td>220405</td>\n",
       "      <td>2</td>\n",
       "      <td>2000.0</td>\n",
       "      <td>6</td>\n",
       "      <td>2</td>\n",
       "      <td>2</td>\n",
       "      <td>6.0</td>\n",
       "      <td></td>\n",
       "      <td>4</td>\n",
       "      <td>210.0</td>\n",
       "      <td>2</td>\n",
       "    </tr>\n",
       "    <tr>\n",
       "      <th>1953807</th>\n",
       "      <td>19710</td>\n",
       "      <td>44</td>\n",
       "      <td>11</td>\n",
       "      <td>220405</td>\n",
       "      <td>2</td>\n",
       "      <td>2000.0</td>\n",
       "      <td>6</td>\n",
       "      <td>2</td>\n",
       "      <td>2</td>\n",
       "      <td>6.0</td>\n",
       "      <td></td>\n",
       "      <td>4</td>\n",
       "      <td>210.0</td>\n",
       "      <td>2</td>\n",
       "    </tr>\n",
       "    <tr>\n",
       "      <th>1953810</th>\n",
       "      <td>19710</td>\n",
       "      <td>44</td>\n",
       "      <td>11</td>\n",
       "      <td>220405</td>\n",
       "      <td>2</td>\n",
       "      <td>2000.0</td>\n",
       "      <td>6</td>\n",
       "      <td>2</td>\n",
       "      <td>2</td>\n",
       "      <td>6.0</td>\n",
       "      <td></td>\n",
       "      <td>5</td>\n",
       "      <td>210.0</td>\n",
       "      <td>2</td>\n",
       "    </tr>\n",
       "    <tr>\n",
       "      <th>1953813</th>\n",
       "      <td>19710</td>\n",
       "      <td>44</td>\n",
       "      <td>11</td>\n",
       "      <td>220405</td>\n",
       "      <td>2</td>\n",
       "      <td>2000.0</td>\n",
       "      <td>6</td>\n",
       "      <td>2</td>\n",
       "      <td>2</td>\n",
       "      <td>6.0</td>\n",
       "      <td></td>\n",
       "      <td>2</td>\n",
       "      <td>210.0</td>\n",
       "      <td>2</td>\n",
       "    </tr>\n",
       "  </tbody>\n",
       "</table>\n",
       "</div>"
      ],
      "text/plain": [
       "         CONGLOME  VIVIENDA  HOGAR  UBIGEO prob_pago  MONTO_CREDITO  ESTRATO  \\\n",
       "1953801     19710        44     11  220405         2         2000.0        6   \n",
       "1953804     19710        44     11  220405         2         2000.0        6   \n",
       "1953807     19710        44     11  220405         2         2000.0        6   \n",
       "1953810     19710        44     11  220405         2         2000.0        6   \n",
       "1953813     19710        44     11  220405         2         2000.0        6   \n",
       "\n",
       "        T_VIVIENDA SEXO  EDAD ESTADO_CIVIL EDUCACION  INGRESO INGRESO_T  \n",
       "1953801          2    1  16.0            6         2    210.0         2  \n",
       "1953804          2    2   6.0                      4    210.0         2  \n",
       "1953807          2    2   6.0                      4    210.0         2  \n",
       "1953810          2    2   6.0                      5    210.0         2  \n",
       "1953813          2    2   6.0                      2    210.0         2  "
      ]
     },
     "execution_count": 277,
     "metadata": {},
     "output_type": "execute_result"
    }
   ],
   "source": [
    "d3= d3[d3[\"MONTO_CREDITO\"].notnull() & d3[\"INGRESO\"].notnull() & d3[\"INGRESO_T\"].notnull()]\n",
    "d3.tail()"
   ]
  },
  {
   "cell_type": "raw",
   "id": "9a4327dd",
   "metadata": {},
   "source": [
    "d3= d3[d3[\"MONTO_CREDITO\"].notnull()]\n",
    "d3.tail()"
   ]
  },
  {
   "cell_type": "raw",
   "id": "a71fc96a",
   "metadata": {},
   "source": [
    "d3= d3[d3[\"MONTO_CREDITO\"].notnull() & d3[\"INGRESO\"].notnull()& d3[\"INGRESO_T\"].notnull()]\n",
    "d3.head()"
   ]
  },
  {
   "cell_type": "markdown",
   "id": "b2b1b840",
   "metadata": {},
   "source": [
    "## Crear la variable ingreso mensual"
   ]
  },
  {
   "cell_type": "raw",
   "id": "82a38366",
   "metadata": {},
   "source": [
    "filled_df = d3.interpolate()\n",
    "filled_df"
   ]
  },
  {
   "cell_type": "code",
   "execution_count": 278,
   "id": "13526ba4",
   "metadata": {},
   "outputs": [
    {
     "data": {
      "text/plain": [
       "9967    4\n",
       "9969    4\n",
       "9971    4\n",
       "9973    4\n",
       "9975    4\n",
       "Name: INGRESO_T, dtype: int64"
      ]
     },
     "execution_count": 278,
     "metadata": {},
     "output_type": "execute_result"
    }
   ],
   "source": [
    "d3['INGRESO']=d3['INGRESO'].apply(np.int64)\n",
    "d3['INGRESO'].head()\n",
    "d3['INGRESO_T']=d3['INGRESO_T'].apply(np.int64)\n",
    "d3['INGRESO_T'].head()"
   ]
  },
  {
   "cell_type": "raw",
   "id": "f62a516d",
   "metadata": {},
   "source": [
    "df['C'] = df['C'].apply(np.int64)"
   ]
  },
  {
   "cell_type": "code",
   "execution_count": 279,
   "id": "74f8bb0e",
   "metadata": {},
   "outputs": [
    {
     "data": {
      "text/plain": [
       "9967    4400\n",
       "9969    4400\n",
       "9971    4400\n",
       "9973    4400\n",
       "9975    4400\n",
       "Name: iNGRESO_MENSUAL, dtype: int64"
      ]
     },
     "execution_count": 279,
     "metadata": {},
     "output_type": "execute_result"
    }
   ],
   "source": [
    "d3['iNGRESO_MENSUAL']=d3['INGRESO']*d3['INGRESO_T']\n",
    "d3['iNGRESO_MENSUAL'].head()"
   ]
  },
  {
   "cell_type": "markdown",
   "id": "f8ec543e",
   "metadata": {},
   "source": [
    "## Crear la variable area urbana / rural"
   ]
  },
  {
   "cell_type": "code",
   "execution_count": 280,
   "id": "a6315009",
   "metadata": {},
   "outputs": [
    {
     "data": {
      "text/plain": [
       "9967       1\n",
       "9969       1\n",
       "9971       1\n",
       "9973       1\n",
       "9975       1\n",
       "          ..\n",
       "1953801    0\n",
       "1953804    0\n",
       "1953807    0\n",
       "1953810    0\n",
       "1953813    0\n",
       "Name: ESTRATO, Length: 1438, dtype: int64"
      ]
     },
     "execution_count": 280,
     "metadata": {},
     "output_type": "execute_result"
    }
   ],
   "source": [
    "d3['ESTRATO']= d3['ESTRATO'].replace({1:1,2:1,3:1,4:1,5:1,6:0,7:0,8:0})\n",
    "d3['ESTRATO']"
   ]
  },
  {
   "cell_type": "code",
   "execution_count": 281,
   "id": "1d9b4e8f",
   "metadata": {},
   "outputs": [
    {
     "data": {
      "text/html": [
       "<div>\n",
       "<style scoped>\n",
       "    .dataframe tbody tr th:only-of-type {\n",
       "        vertical-align: middle;\n",
       "    }\n",
       "\n",
       "    .dataframe tbody tr th {\n",
       "        vertical-align: top;\n",
       "    }\n",
       "\n",
       "    .dataframe thead th {\n",
       "        text-align: right;\n",
       "    }\n",
       "</style>\n",
       "<table border=\"1\" class=\"dataframe\">\n",
       "  <thead>\n",
       "    <tr style=\"text-align: right;\">\n",
       "      <th></th>\n",
       "      <th>CONGLOME</th>\n",
       "      <th>VIVIENDA</th>\n",
       "      <th>HOGAR</th>\n",
       "      <th>UBIGEO</th>\n",
       "      <th>prob_pago</th>\n",
       "      <th>MONTO_CREDITO</th>\n",
       "      <th>ESTRATO</th>\n",
       "      <th>T_VIVIENDA</th>\n",
       "      <th>SEXO</th>\n",
       "      <th>EDAD</th>\n",
       "      <th>ESTADO_CIVIL</th>\n",
       "      <th>EDUCACION</th>\n",
       "      <th>INGRESO</th>\n",
       "      <th>INGRESO_T</th>\n",
       "      <th>iNGRESO_MENSUAL</th>\n",
       "    </tr>\n",
       "  </thead>\n",
       "  <tbody>\n",
       "    <tr>\n",
       "      <th>9967</th>\n",
       "      <td>5269</td>\n",
       "      <td>28</td>\n",
       "      <td>11</td>\n",
       "      <td>21201</td>\n",
       "      <td>2</td>\n",
       "      <td>2000.0</td>\n",
       "      <td>1</td>\n",
       "      <td>6</td>\n",
       "      <td>1</td>\n",
       "      <td>32.0</td>\n",
       "      <td>1</td>\n",
       "      <td>4</td>\n",
       "      <td>1100</td>\n",
       "      <td>4</td>\n",
       "      <td>4400</td>\n",
       "    </tr>\n",
       "    <tr>\n",
       "      <th>9969</th>\n",
       "      <td>5269</td>\n",
       "      <td>28</td>\n",
       "      <td>11</td>\n",
       "      <td>21201</td>\n",
       "      <td>2</td>\n",
       "      <td>2000.0</td>\n",
       "      <td>1</td>\n",
       "      <td>6</td>\n",
       "      <td>1</td>\n",
       "      <td>32.0</td>\n",
       "      <td>1</td>\n",
       "      <td>3</td>\n",
       "      <td>1100</td>\n",
       "      <td>4</td>\n",
       "      <td>4400</td>\n",
       "    </tr>\n",
       "    <tr>\n",
       "      <th>9971</th>\n",
       "      <td>5269</td>\n",
       "      <td>28</td>\n",
       "      <td>11</td>\n",
       "      <td>21201</td>\n",
       "      <td>2</td>\n",
       "      <td>2000.0</td>\n",
       "      <td>1</td>\n",
       "      <td>6</td>\n",
       "      <td>1</td>\n",
       "      <td>32.0</td>\n",
       "      <td>1</td>\n",
       "      <td>3</td>\n",
       "      <td>1100</td>\n",
       "      <td>4</td>\n",
       "      <td>4400</td>\n",
       "    </tr>\n",
       "    <tr>\n",
       "      <th>9973</th>\n",
       "      <td>5269</td>\n",
       "      <td>28</td>\n",
       "      <td>11</td>\n",
       "      <td>21201</td>\n",
       "      <td>2</td>\n",
       "      <td>2000.0</td>\n",
       "      <td>1</td>\n",
       "      <td>6</td>\n",
       "      <td>1</td>\n",
       "      <td>32.0</td>\n",
       "      <td>1</td>\n",
       "      <td>3</td>\n",
       "      <td>1100</td>\n",
       "      <td>4</td>\n",
       "      <td>4400</td>\n",
       "    </tr>\n",
       "    <tr>\n",
       "      <th>9975</th>\n",
       "      <td>5269</td>\n",
       "      <td>28</td>\n",
       "      <td>11</td>\n",
       "      <td>21201</td>\n",
       "      <td>2</td>\n",
       "      <td>2000.0</td>\n",
       "      <td>1</td>\n",
       "      <td>6</td>\n",
       "      <td>2</td>\n",
       "      <td>29.0</td>\n",
       "      <td>1</td>\n",
       "      <td>4</td>\n",
       "      <td>1100</td>\n",
       "      <td>4</td>\n",
       "      <td>4400</td>\n",
       "    </tr>\n",
       "  </tbody>\n",
       "</table>\n",
       "</div>"
      ],
      "text/plain": [
       "      CONGLOME  VIVIENDA  HOGAR  UBIGEO prob_pago  MONTO_CREDITO  ESTRATO  \\\n",
       "9967      5269        28     11   21201         2         2000.0        1   \n",
       "9969      5269        28     11   21201         2         2000.0        1   \n",
       "9971      5269        28     11   21201         2         2000.0        1   \n",
       "9973      5269        28     11   21201         2         2000.0        1   \n",
       "9975      5269        28     11   21201         2         2000.0        1   \n",
       "\n",
       "     T_VIVIENDA SEXO  EDAD ESTADO_CIVIL EDUCACION  INGRESO  INGRESO_T  \\\n",
       "9967          6    1  32.0            1         4     1100          4   \n",
       "9969          6    1  32.0            1         3     1100          4   \n",
       "9971          6    1  32.0            1         3     1100          4   \n",
       "9973          6    1  32.0            1         3     1100          4   \n",
       "9975          6    2  29.0            1         4     1100          4   \n",
       "\n",
       "      iNGRESO_MENSUAL  \n",
       "9967             4400  \n",
       "9969             4400  \n",
       "9971             4400  \n",
       "9973             4400  \n",
       "9975             4400  "
      ]
     },
     "execution_count": 281,
     "metadata": {},
     "output_type": "execute_result"
    }
   ],
   "source": [
    "d3.head()"
   ]
  },
  {
   "cell_type": "code",
   "execution_count": 282,
   "id": "8fd004f4",
   "metadata": {},
   "outputs": [],
   "source": [
    "## Explorando variable educacion"
   ]
  },
  {
   "cell_type": "code",
   "execution_count": 283,
   "id": "8e8ce3bc",
   "metadata": {},
   "outputs": [
    {
     "data": {
      "text/plain": [
       "6     242\n",
       "10    170\n",
       "5     153\n",
       "4     143\n",
       "3     129\n",
       "9      86\n",
       "8      71\n",
       "11     58\n",
       "10     47\n",
       "3      46\n",
       "2      40\n",
       "4      38\n",
       "2      33\n",
       "7      29\n",
       "5      27\n",
       "1      26\n",
       "6      22\n",
       "9      18\n",
       "11     17\n",
       "8      13\n",
       "1      10\n",
       "7      10\n",
       "12     10\n",
       "Name: EDUCACION, dtype: int64"
      ]
     },
     "execution_count": 283,
     "metadata": {},
     "output_type": "execute_result"
    }
   ],
   "source": [
    "d3[\"EDUCACION\"].value_counts()"
   ]
  },
  {
   "cell_type": "code",
   "execution_count": 284,
   "id": "88e1e07b",
   "metadata": {},
   "outputs": [
    {
     "data": {
      "text/plain": [
       "No graduado    1146\n",
       "Graduado        292\n",
       "Name: EDUCACION, dtype: int64"
      ]
     },
     "execution_count": 284,
     "metadata": {},
     "output_type": "execute_result"
    }
   ],
   "source": [
    "d3['EDUCACION']= d3['EDUCACION'].replace({1:'No graduado', 2:'No graduado',3:'No graduado', 4:'No graduado',5:'No graduado',\n",
    "                                          6:'No graduado', 7:'No graduado',8:'No graduado',9:'No graduado',\n",
    "                                          10:'Graduado', 11:'Graduado', 12:'No graduado', '10':'Graduado',\n",
    "                                          '1':'No graduado', '2':'No graduado','3':'No graduado','4':'No graduado',\n",
    "                                          '5':'No graduado', '6':'No graduado', '7':'No graduado','8':'No graduado',\n",
    "                                          '9':'No graduado',  '11':'Graduado'\n",
    "                                         })\n",
    "d3[\"EDUCACION\"].value_counts()"
   ]
  },
  {
   "cell_type": "markdown",
   "id": "9e6525a4",
   "metadata": {},
   "source": [
    "# Filtrar mayores de 18 años"
   ]
  },
  {
   "cell_type": "code",
   "execution_count": 285,
   "id": "d38c91df",
   "metadata": {},
   "outputs": [
    {
     "data": {
      "text/html": [
       "<div>\n",
       "<style scoped>\n",
       "    .dataframe tbody tr th:only-of-type {\n",
       "        vertical-align: middle;\n",
       "    }\n",
       "\n",
       "    .dataframe tbody tr th {\n",
       "        vertical-align: top;\n",
       "    }\n",
       "\n",
       "    .dataframe thead th {\n",
       "        text-align: right;\n",
       "    }\n",
       "</style>\n",
       "<table border=\"1\" class=\"dataframe\">\n",
       "  <thead>\n",
       "    <tr style=\"text-align: right;\">\n",
       "      <th></th>\n",
       "      <th>CONGLOME</th>\n",
       "      <th>VIVIENDA</th>\n",
       "      <th>HOGAR</th>\n",
       "      <th>UBIGEO</th>\n",
       "      <th>prob_pago</th>\n",
       "      <th>MONTO_CREDITO</th>\n",
       "      <th>ESTRATO</th>\n",
       "      <th>T_VIVIENDA</th>\n",
       "      <th>SEXO</th>\n",
       "      <th>EDAD</th>\n",
       "      <th>ESTADO_CIVIL</th>\n",
       "      <th>EDUCACION</th>\n",
       "      <th>INGRESO</th>\n",
       "      <th>INGRESO_T</th>\n",
       "      <th>iNGRESO_MENSUAL</th>\n",
       "    </tr>\n",
       "  </thead>\n",
       "  <tbody>\n",
       "    <tr>\n",
       "      <th>1953777</th>\n",
       "      <td>19710</td>\n",
       "      <td>44</td>\n",
       "      <td>11</td>\n",
       "      <td>220405</td>\n",
       "      <td>2</td>\n",
       "      <td>2000.0</td>\n",
       "      <td>0</td>\n",
       "      <td>2</td>\n",
       "      <td>1</td>\n",
       "      <td>51.0</td>\n",
       "      <td>1</td>\n",
       "      <td>No graduado</td>\n",
       "      <td>210</td>\n",
       "      <td>2</td>\n",
       "      <td>420</td>\n",
       "    </tr>\n",
       "    <tr>\n",
       "      <th>1953780</th>\n",
       "      <td>19710</td>\n",
       "      <td>44</td>\n",
       "      <td>11</td>\n",
       "      <td>220405</td>\n",
       "      <td>2</td>\n",
       "      <td>2000.0</td>\n",
       "      <td>0</td>\n",
       "      <td>2</td>\n",
       "      <td>2</td>\n",
       "      <td>46.0</td>\n",
       "      <td>1</td>\n",
       "      <td>No graduado</td>\n",
       "      <td>210</td>\n",
       "      <td>2</td>\n",
       "      <td>420</td>\n",
       "    </tr>\n",
       "    <tr>\n",
       "      <th>1953783</th>\n",
       "      <td>19710</td>\n",
       "      <td>44</td>\n",
       "      <td>11</td>\n",
       "      <td>220405</td>\n",
       "      <td>2</td>\n",
       "      <td>2000.0</td>\n",
       "      <td>0</td>\n",
       "      <td>2</td>\n",
       "      <td>2</td>\n",
       "      <td>46.0</td>\n",
       "      <td>1</td>\n",
       "      <td>No graduado</td>\n",
       "      <td>210</td>\n",
       "      <td>2</td>\n",
       "      <td>420</td>\n",
       "    </tr>\n",
       "    <tr>\n",
       "      <th>1953786</th>\n",
       "      <td>19710</td>\n",
       "      <td>44</td>\n",
       "      <td>11</td>\n",
       "      <td>220405</td>\n",
       "      <td>2</td>\n",
       "      <td>2000.0</td>\n",
       "      <td>0</td>\n",
       "      <td>2</td>\n",
       "      <td>2</td>\n",
       "      <td>46.0</td>\n",
       "      <td>1</td>\n",
       "      <td>No graduado</td>\n",
       "      <td>210</td>\n",
       "      <td>2</td>\n",
       "      <td>420</td>\n",
       "    </tr>\n",
       "    <tr>\n",
       "      <th>1953789</th>\n",
       "      <td>19710</td>\n",
       "      <td>44</td>\n",
       "      <td>11</td>\n",
       "      <td>220405</td>\n",
       "      <td>2</td>\n",
       "      <td>2000.0</td>\n",
       "      <td>0</td>\n",
       "      <td>2</td>\n",
       "      <td>2</td>\n",
       "      <td>46.0</td>\n",
       "      <td>1</td>\n",
       "      <td>No graduado</td>\n",
       "      <td>210</td>\n",
       "      <td>2</td>\n",
       "      <td>420</td>\n",
       "    </tr>\n",
       "  </tbody>\n",
       "</table>\n",
       "</div>"
      ],
      "text/plain": [
       "         CONGLOME  VIVIENDA  HOGAR  UBIGEO prob_pago  MONTO_CREDITO  ESTRATO  \\\n",
       "1953777     19710        44     11  220405         2         2000.0        0   \n",
       "1953780     19710        44     11  220405         2         2000.0        0   \n",
       "1953783     19710        44     11  220405         2         2000.0        0   \n",
       "1953786     19710        44     11  220405         2         2000.0        0   \n",
       "1953789     19710        44     11  220405         2         2000.0        0   \n",
       "\n",
       "        T_VIVIENDA SEXO  EDAD ESTADO_CIVIL    EDUCACION  INGRESO  INGRESO_T  \\\n",
       "1953777          2    1  51.0            1  No graduado      210          2   \n",
       "1953780          2    2  46.0            1  No graduado      210          2   \n",
       "1953783          2    2  46.0            1  No graduado      210          2   \n",
       "1953786          2    2  46.0            1  No graduado      210          2   \n",
       "1953789          2    2  46.0            1  No graduado      210          2   \n",
       "\n",
       "         iNGRESO_MENSUAL  \n",
       "1953777              420  \n",
       "1953780              420  \n",
       "1953783              420  \n",
       "1953786              420  \n",
       "1953789              420  "
      ]
     },
     "execution_count": 285,
     "metadata": {},
     "output_type": "execute_result"
    }
   ],
   "source": [
    "d3= d3[d3[\"EDAD\"]>=18]\n",
    "d3.tail()"
   ]
  },
  {
   "cell_type": "markdown",
   "id": "a67388bc",
   "metadata": {},
   "source": [
    "## Base a trabajar"
   ]
  },
  {
   "cell_type": "code",
   "execution_count": 286,
   "id": "6f53b727",
   "metadata": {},
   "outputs": [
    {
     "data": {
      "text/html": [
       "<div>\n",
       "<style scoped>\n",
       "    .dataframe tbody tr th:only-of-type {\n",
       "        vertical-align: middle;\n",
       "    }\n",
       "\n",
       "    .dataframe tbody tr th {\n",
       "        vertical-align: top;\n",
       "    }\n",
       "\n",
       "    .dataframe thead th {\n",
       "        text-align: right;\n",
       "    }\n",
       "</style>\n",
       "<table border=\"1\" class=\"dataframe\">\n",
       "  <thead>\n",
       "    <tr style=\"text-align: right;\">\n",
       "      <th></th>\n",
       "      <th>UBIGEO</th>\n",
       "      <th>prob_pago</th>\n",
       "      <th>MONTO_CREDITO</th>\n",
       "      <th>ESTRATO</th>\n",
       "      <th>T_VIVIENDA</th>\n",
       "      <th>SEXO</th>\n",
       "      <th>EDAD</th>\n",
       "      <th>ESTADO_CIVIL</th>\n",
       "      <th>EDUCACION</th>\n",
       "      <th>iNGRESO_MENSUAL</th>\n",
       "    </tr>\n",
       "  </thead>\n",
       "  <tbody>\n",
       "    <tr>\n",
       "      <th>9967</th>\n",
       "      <td>21201</td>\n",
       "      <td>2</td>\n",
       "      <td>2000.0</td>\n",
       "      <td>1</td>\n",
       "      <td>6</td>\n",
       "      <td>1</td>\n",
       "      <td>32.0</td>\n",
       "      <td>1</td>\n",
       "      <td>No graduado</td>\n",
       "      <td>4400</td>\n",
       "    </tr>\n",
       "    <tr>\n",
       "      <th>9969</th>\n",
       "      <td>21201</td>\n",
       "      <td>2</td>\n",
       "      <td>2000.0</td>\n",
       "      <td>1</td>\n",
       "      <td>6</td>\n",
       "      <td>1</td>\n",
       "      <td>32.0</td>\n",
       "      <td>1</td>\n",
       "      <td>No graduado</td>\n",
       "      <td>4400</td>\n",
       "    </tr>\n",
       "    <tr>\n",
       "      <th>9971</th>\n",
       "      <td>21201</td>\n",
       "      <td>2</td>\n",
       "      <td>2000.0</td>\n",
       "      <td>1</td>\n",
       "      <td>6</td>\n",
       "      <td>1</td>\n",
       "      <td>32.0</td>\n",
       "      <td>1</td>\n",
       "      <td>No graduado</td>\n",
       "      <td>4400</td>\n",
       "    </tr>\n",
       "    <tr>\n",
       "      <th>9973</th>\n",
       "      <td>21201</td>\n",
       "      <td>2</td>\n",
       "      <td>2000.0</td>\n",
       "      <td>1</td>\n",
       "      <td>6</td>\n",
       "      <td>1</td>\n",
       "      <td>32.0</td>\n",
       "      <td>1</td>\n",
       "      <td>No graduado</td>\n",
       "      <td>4400</td>\n",
       "    </tr>\n",
       "    <tr>\n",
       "      <th>9975</th>\n",
       "      <td>21201</td>\n",
       "      <td>2</td>\n",
       "      <td>2000.0</td>\n",
       "      <td>1</td>\n",
       "      <td>6</td>\n",
       "      <td>2</td>\n",
       "      <td>29.0</td>\n",
       "      <td>1</td>\n",
       "      <td>No graduado</td>\n",
       "      <td>4400</td>\n",
       "    </tr>\n",
       "  </tbody>\n",
       "</table>\n",
       "</div>"
      ],
      "text/plain": [
       "      UBIGEO prob_pago  MONTO_CREDITO  ESTRATO T_VIVIENDA SEXO  EDAD  \\\n",
       "9967   21201         2         2000.0        1          6    1  32.0   \n",
       "9969   21201         2         2000.0        1          6    1  32.0   \n",
       "9971   21201         2         2000.0        1          6    1  32.0   \n",
       "9973   21201         2         2000.0        1          6    1  32.0   \n",
       "9975   21201         2         2000.0        1          6    2  29.0   \n",
       "\n",
       "     ESTADO_CIVIL    EDUCACION  iNGRESO_MENSUAL  \n",
       "9967            1  No graduado             4400  \n",
       "9969            1  No graduado             4400  \n",
       "9971            1  No graduado             4400  \n",
       "9973            1  No graduado             4400  \n",
       "9975            1  No graduado             4400  "
      ]
     },
     "execution_count": 286,
     "metadata": {},
     "output_type": "execute_result"
    }
   ],
   "source": [
    "base_final = d3.drop(columns=['CONGLOME', 'VIVIENDA','HOGAR','INGRESO_T', 'INGRESO'])\n",
    "base_final.head()"
   ]
  },
  {
   "cell_type": "code",
   "execution_count": 287,
   "id": "66bbb21b",
   "metadata": {},
   "outputs": [
    {
     "data": {
      "text/plain": [
       "UBIGEO               int64\n",
       "prob_pago           object\n",
       "MONTO_CREDITO      float64\n",
       "ESTRATO              int64\n",
       "T_VIVIENDA          object\n",
       "SEXO                object\n",
       "EDAD               float64\n",
       "ESTADO_CIVIL        object\n",
       "EDUCACION           object\n",
       "iNGRESO_MENSUAL      int64\n",
       "dtype: object"
      ]
     },
     "execution_count": 287,
     "metadata": {},
     "output_type": "execute_result"
    }
   ],
   "source": [
    "base_final.dtypes"
   ]
  },
  {
   "cell_type": "code",
   "execution_count": 288,
   "id": "9391d096",
   "metadata": {},
   "outputs": [
    {
     "data": {
      "text/html": [
       "<div>\n",
       "<style scoped>\n",
       "    .dataframe tbody tr th:only-of-type {\n",
       "        vertical-align: middle;\n",
       "    }\n",
       "\n",
       "    .dataframe tbody tr th {\n",
       "        vertical-align: top;\n",
       "    }\n",
       "\n",
       "    .dataframe thead th {\n",
       "        text-align: right;\n",
       "    }\n",
       "</style>\n",
       "<table border=\"1\" class=\"dataframe\">\n",
       "  <thead>\n",
       "    <tr style=\"text-align: right;\">\n",
       "      <th></th>\n",
       "      <th>UBIGEO</th>\n",
       "      <th>MONTO_CREDITO</th>\n",
       "      <th>ESTRATO</th>\n",
       "      <th>EDAD</th>\n",
       "      <th>iNGRESO_MENSUAL</th>\n",
       "    </tr>\n",
       "  </thead>\n",
       "  <tbody>\n",
       "    <tr>\n",
       "      <th>count</th>\n",
       "      <td>1009.000000</td>\n",
       "      <td>1009.000000</td>\n",
       "      <td>1009.000000</td>\n",
       "      <td>1009.000000</td>\n",
       "      <td>1009.000000</td>\n",
       "    </tr>\n",
       "    <tr>\n",
       "      <th>mean</th>\n",
       "      <td>155750.085233</td>\n",
       "      <td>25296.828543</td>\n",
       "      <td>0.728444</td>\n",
       "      <td>39.448959</td>\n",
       "      <td>6808.907830</td>\n",
       "    </tr>\n",
       "    <tr>\n",
       "      <th>std</th>\n",
       "      <td>74709.590428</td>\n",
       "      <td>62522.078242</td>\n",
       "      <td>0.444983</td>\n",
       "      <td>14.224379</td>\n",
       "      <td>6323.764909</td>\n",
       "    </tr>\n",
       "    <tr>\n",
       "      <th>min</th>\n",
       "      <td>10203.000000</td>\n",
       "      <td>1000.000000</td>\n",
       "      <td>0.000000</td>\n",
       "      <td>18.000000</td>\n",
       "      <td>20.000000</td>\n",
       "    </tr>\n",
       "    <tr>\n",
       "      <th>25%</th>\n",
       "      <td>90207.000000</td>\n",
       "      <td>5000.000000</td>\n",
       "      <td>0.000000</td>\n",
       "      <td>27.000000</td>\n",
       "      <td>1000.000000</td>\n",
       "    </tr>\n",
       "    <tr>\n",
       "      <th>50%</th>\n",
       "      <td>200101.000000</td>\n",
       "      <td>10000.000000</td>\n",
       "      <td>1.000000</td>\n",
       "      <td>39.000000</td>\n",
       "      <td>6000.000000</td>\n",
       "    </tr>\n",
       "    <tr>\n",
       "      <th>75%</th>\n",
       "      <td>210101.000000</td>\n",
       "      <td>20000.000000</td>\n",
       "      <td>1.000000</td>\n",
       "      <td>52.000000</td>\n",
       "      <td>10800.000000</td>\n",
       "    </tr>\n",
       "    <tr>\n",
       "      <th>max</th>\n",
       "      <td>250107.000000</td>\n",
       "      <td>600000.000000</td>\n",
       "      <td>1.000000</td>\n",
       "      <td>80.000000</td>\n",
       "      <td>34000.000000</td>\n",
       "    </tr>\n",
       "  </tbody>\n",
       "</table>\n",
       "</div>"
      ],
      "text/plain": [
       "              UBIGEO  MONTO_CREDITO      ESTRATO         EDAD  iNGRESO_MENSUAL\n",
       "count    1009.000000    1009.000000  1009.000000  1009.000000      1009.000000\n",
       "mean   155750.085233   25296.828543     0.728444    39.448959      6808.907830\n",
       "std     74709.590428   62522.078242     0.444983    14.224379      6323.764909\n",
       "min     10203.000000    1000.000000     0.000000    18.000000        20.000000\n",
       "25%     90207.000000    5000.000000     0.000000    27.000000      1000.000000\n",
       "50%    200101.000000   10000.000000     1.000000    39.000000      6000.000000\n",
       "75%    210101.000000   20000.000000     1.000000    52.000000     10800.000000\n",
       "max    250107.000000  600000.000000     1.000000    80.000000     34000.000000"
      ]
     },
     "execution_count": 288,
     "metadata": {},
     "output_type": "execute_result"
    }
   ],
   "source": [
    "base_final.describe()"
   ]
  },
  {
   "cell_type": "code",
   "execution_count": 289,
   "id": "89f43c29",
   "metadata": {},
   "outputs": [
    {
     "data": {
      "text/html": [
       "<div>\n",
       "<style scoped>\n",
       "    .dataframe tbody tr th:only-of-type {\n",
       "        vertical-align: middle;\n",
       "    }\n",
       "\n",
       "    .dataframe tbody tr th {\n",
       "        vertical-align: top;\n",
       "    }\n",
       "\n",
       "    .dataframe thead th {\n",
       "        text-align: right;\n",
       "    }\n",
       "</style>\n",
       "<table border=\"1\" class=\"dataframe\">\n",
       "  <thead>\n",
       "    <tr style=\"text-align: right;\">\n",
       "      <th></th>\n",
       "      <th>prob_pago</th>\n",
       "      <th>T_VIVIENDA</th>\n",
       "      <th>SEXO</th>\n",
       "      <th>ESTADO_CIVIL</th>\n",
       "      <th>EDUCACION</th>\n",
       "    </tr>\n",
       "  </thead>\n",
       "  <tbody>\n",
       "    <tr>\n",
       "      <th>count</th>\n",
       "      <td>1009</td>\n",
       "      <td>1009</td>\n",
       "      <td>1009</td>\n",
       "      <td>1009</td>\n",
       "      <td>1009</td>\n",
       "    </tr>\n",
       "    <tr>\n",
       "      <th>unique</th>\n",
       "      <td>2</td>\n",
       "      <td>4</td>\n",
       "      <td>2</td>\n",
       "      <td>6</td>\n",
       "      <td>2</td>\n",
       "    </tr>\n",
       "    <tr>\n",
       "      <th>top</th>\n",
       "      <td>2</td>\n",
       "      <td>2</td>\n",
       "      <td>1</td>\n",
       "      <td>6</td>\n",
       "      <td>No graduado</td>\n",
       "    </tr>\n",
       "    <tr>\n",
       "      <th>freq</th>\n",
       "      <td>902</td>\n",
       "      <td>932</td>\n",
       "      <td>525</td>\n",
       "      <td>417</td>\n",
       "      <td>758</td>\n",
       "    </tr>\n",
       "  </tbody>\n",
       "</table>\n",
       "</div>"
      ],
      "text/plain": [
       "       prob_pago T_VIVIENDA  SEXO ESTADO_CIVIL    EDUCACION\n",
       "count       1009       1009  1009         1009         1009\n",
       "unique         2          4     2            6            2\n",
       "top            2          2     1            6  No graduado\n",
       "freq         902        932   525          417          758"
      ]
     },
     "execution_count": 289,
     "metadata": {},
     "output_type": "execute_result"
    }
   ],
   "source": [
    "base_final.describe(include=\"O\")"
   ]
  },
  {
   "cell_type": "code",
   "execution_count": 290,
   "id": "ff122d6f",
   "metadata": {},
   "outputs": [
    {
     "data": {
      "text/plain": [
       "2    902\n",
       "1    107\n",
       "Name: prob_pago, dtype: int64"
      ]
     },
     "execution_count": 290,
     "metadata": {},
     "output_type": "execute_result"
    }
   ],
   "source": [
    "base_final[\"prob_pago\"].value_counts()"
   ]
  },
  {
   "cell_type": "code",
   "execution_count": 294,
   "id": "3005aabc",
   "metadata": {},
   "outputs": [],
   "source": [
    "#Diferenciamos variables continuas, de las categoricas\n",
    "cols_continuas = [\"EDAD\",\"ESTRATO\", \"iNGRESO_MENSUAL\"]\n",
    "cols_categoricas = [\"SEXO\",\"ESTADO_CIVIL\",\"EDUCACION\", \"T_VIVIENDA\"]"
   ]
  },
  {
   "cell_type": "code",
   "execution_count": 295,
   "id": "ea5f45b0",
   "metadata": {},
   "outputs": [
    {
     "data": {
      "image/png": "[encoded data removed]",
      "text/plain": [
       "<Figure size 432x288 with 1 Axes>"
      ]
     },
     "metadata": {
      "needs_background": "light"
     },
     "output_type": "display_data"
    },
    {
     "data": {
      "image/png": "[encoded data removed]",
      "text/plain": [
       "<Figure size 432x288 with 1 Axes>"
      ]
     },
     "metadata": {
      "needs_background": "light"
     },
     "output_type": "display_data"
    },
    {
     "data": {
      "image/png": "[encoded data removed]",
      "text/plain": [
       "<Figure size 432x288 with 1 Axes>"
      ]
     },
     "metadata": {
      "needs_background": "light"
     },
     "output_type": "display_data"
    }
   ],
   "source": [
    "for c in cols_continuas:\n",
    "    fig, ax = plt.subplots()\n",
    "    base_final[c].hist(bins=50, ax= ax)\n",
    "    ax.set_title(c)\n",
    "    plt.show()"
   ]
  },
  {
   "cell_type": "code",
   "execution_count": 296,
   "id": "03a62e04",
   "metadata": {},
   "outputs": [
    {
     "data": {
      "image/png": "[encoded data removed]",
      "text/plain": [
       "<Figure size 432x288 with 1 Axes>"
      ]
     },
     "metadata": {
      "needs_background": "light"
     },
     "output_type": "display_data"
    },
    {
     "data": {
      "image/png": "[encoded data removed]",
      "text/plain": [
       "<Figure size 432x288 with 1 Axes>"
      ]
     },
     "metadata": {
      "needs_background": "light"
     },
     "output_type": "display_data"
    },
    {
     "data": {
      "image/png": "[encoded data removed]",
      "text/plain": [
       "<Figure size 432x288 with 1 Axes>"
      ]
     },
     "metadata": {
      "needs_background": "light"
     },
     "output_type": "display_data"
    },
    {
     "data": {
      "image/png": "[encoded data removed]",
      "text/plain": [
       "<Figure size 432x288 with 1 Axes>"
      ]
     },
     "metadata": {
      "needs_background": "light"
     },
     "output_type": "display_data"
    }
   ],
   "source": [
    "for c in cols_categoricas:\n",
    "    fig, ax = plt.subplots()\n",
    "    sns.countplot(x =c, data = base_final)\n",
    "    ax.set_title(c)\n",
    "    plt.show()"
   ]
  },
  {
   "cell_type": "code",
   "execution_count": 297,
   "id": "ef8bb69f",
   "metadata": {},
   "outputs": [],
   "source": [
    "## Evaluar valores extremos"
   ]
  },
  {
   "cell_type": "code",
   "execution_count": 298,
   "id": "fd2cc8dc",
   "metadata": {},
   "outputs": [],
   "source": [
    "df_aux = pd.DataFrame()\n",
    "\n",
    "for c in cols_continuas:\n",
    "    p1 = base_final[c].quantile(0.01) \n",
    "    p5 = base_final[c].quantile(0.05)\n",
    "    p95 = base_final[c].quantile(0.95)\n",
    "    p99 = base_final[c].quantile(0.99)\n",
    "    lst = [[c,p1,p5,p95,p99]]\n",
    "    df_temp = pd.DataFrame(lst, columns =['Variable', 'P1','P5','P95','P99'])\n",
    "    df_aux = df_aux.append(df_temp)\n",
    "    df_aux.reset_index(drop=True,inplace=True)"
   ]
  },
  {
   "cell_type": "code",
   "execution_count": 299,
   "id": "7aeeebc8",
   "metadata": {},
   "outputs": [
    {
     "data": {
      "text/html": [
       "<div>\n",
       "<style scoped>\n",
       "    .dataframe tbody tr th:only-of-type {\n",
       "        vertical-align: middle;\n",
       "    }\n",
       "\n",
       "    .dataframe tbody tr th {\n",
       "        vertical-align: top;\n",
       "    }\n",
       "\n",
       "    .dataframe thead th {\n",
       "        text-align: right;\n",
       "    }\n",
       "</style>\n",
       "<table border=\"1\" class=\"dataframe\">\n",
       "  <thead>\n",
       "    <tr style=\"text-align: right;\">\n",
       "      <th></th>\n",
       "      <th>Variable</th>\n",
       "      <th>P1</th>\n",
       "      <th>P5</th>\n",
       "      <th>P95</th>\n",
       "      <th>P99</th>\n",
       "    </tr>\n",
       "  </thead>\n",
       "  <tbody>\n",
       "    <tr>\n",
       "      <th>0</th>\n",
       "      <td>EDAD</td>\n",
       "      <td>19.0</td>\n",
       "      <td>19.0</td>\n",
       "      <td>62.0</td>\n",
       "      <td>63.0</td>\n",
       "    </tr>\n",
       "    <tr>\n",
       "      <th>1</th>\n",
       "      <td>ESTRATO</td>\n",
       "      <td>0.0</td>\n",
       "      <td>0.0</td>\n",
       "      <td>1.0</td>\n",
       "      <td>1.0</td>\n",
       "    </tr>\n",
       "    <tr>\n",
       "      <th>2</th>\n",
       "      <td>iNGRESO_MENSUAL</td>\n",
       "      <td>20.0</td>\n",
       "      <td>204.0</td>\n",
       "      <td>18000.0</td>\n",
       "      <td>26000.0</td>\n",
       "    </tr>\n",
       "  </tbody>\n",
       "</table>\n",
       "</div>"
      ],
      "text/plain": [
       "          Variable    P1     P5      P95      P99\n",
       "0             EDAD  19.0   19.0     62.0     63.0\n",
       "1          ESTRATO   0.0    0.0      1.0      1.0\n",
       "2  iNGRESO_MENSUAL  20.0  204.0  18000.0  26000.0"
      ]
     },
     "execution_count": 299,
     "metadata": {},
     "output_type": "execute_result"
    }
   ],
   "source": [
    "df_aux.head()"
   ]
  },
  {
   "cell_type": "code",
   "execution_count": 300,
   "id": "04f376d5",
   "metadata": {},
   "outputs": [],
   "source": [
    "cols= df_aux[\"Variable\"].unique()"
   ]
  },
  {
   "cell_type": "code",
   "execution_count": 301,
   "id": "e616a377",
   "metadata": {},
   "outputs": [],
   "source": [
    "for c in cols:\n",
    "    cota_izquierda = df_aux.loc[df_aux[\"Variable\"] == c,\"P5\"].values[0]\n",
    "    cota_derecha = df_aux.loc[df_aux[\"Variable\"] == c ,\"P95\"].values[0]\n",
    "    base_final[c] = base_final[c].astype(\"float64\")\n",
    "    base_final.loc[base_final[c] > cota_derecha,c] = cota_derecha\n",
    "    base_final.loc[base_final[c] < cota_izquierda,c] = cota_izquierda"
   ]
  },
  {
   "cell_type": "code",
   "execution_count": 302,
   "id": "4266fbf1",
   "metadata": {},
   "outputs": [
    {
     "data": {
      "image/png": "[encoded data removed]",
      "text/plain": [
       "<Figure size 432x288 with 1 Axes>"
      ]
     },
     "metadata": {
      "needs_background": "light"
     },
     "output_type": "display_data"
    },
    {
     "data": {
      "image/png": "[encoded data removed]",
      "text/plain": [
       "<Figure size 432x288 with 1 Axes>"
      ]
     },
     "metadata": {
      "needs_background": "light"
     },
     "output_type": "display_data"
    },
    {
     "data": {
      "image/png": "[encoded data removed]",
      "text/plain": [
       "<Figure size 432x288 with 1 Axes>"
      ]
     },
     "metadata": {
      "needs_background": "light"
     },
     "output_type": "display_data"
    }
   ],
   "source": [
    "for c in cols_continuas:\n",
    "    fig, ax = plt.subplots()\n",
    "    base_final[c].hist(bins=50, ax= ax)\n",
    "    ax.set_title(c)\n",
    "    plt.show()"
   ]
  },
  {
   "cell_type": "code",
   "execution_count": 303,
   "id": "5355c7e9",
   "metadata": {},
   "outputs": [],
   "source": [
    "## Recodificando valores"
   ]
  },
  {
   "cell_type": "code",
   "execution_count": 304,
   "id": "eaa1d375",
   "metadata": {},
   "outputs": [
    {
     "data": {
      "text/plain": [
       "2    758\n",
       "1    251\n",
       "Name: EDUCACION, dtype: int64"
      ]
     },
     "execution_count": 304,
     "metadata": {},
     "output_type": "execute_result"
    }
   ],
   "source": [
    "base_final['EDUCACION'] = base_final['EDUCACION'].replace({'Graduado': 1,'No graduado': 2})\n",
    "base_final['EDUCACION'].value_counts()"
   ]
  },
  {
   "cell_type": "code",
   "execution_count": 305,
   "id": "b5fa47a0",
   "metadata": {},
   "outputs": [
    {
     "data": {
      "text/plain": [
       "0    902\n",
       "1    107\n",
       "Name: prob_pago, dtype: int64"
      ]
     },
     "execution_count": 305,
     "metadata": {},
     "output_type": "execute_result"
    }
   ],
   "source": [
    "base_final['prob_pago'] = base_final['prob_pago'].replace({'2': 0})\n",
    "base_final['prob_pago'].value_counts()"
   ]
  },
  {
   "cell_type": "code",
   "execution_count": 312,
   "id": "c527830e",
   "metadata": {},
   "outputs": [
    {
     "data": {
      "text/plain": [
       "1    940\n",
       "0     69\n",
       "Name: T_VIVIENDA, dtype: int64"
      ]
     },
     "execution_count": 312,
     "metadata": {},
     "output_type": "execute_result"
    }
   ],
   "source": [
    "base_final['T_VIVIENDA'] = base_final['T_VIVIENDA'].replace({'2': 1,'3': 1,'4': 1,'5': 0, 6: 0, 5: 0,3: 1})\n",
    "base_final['T_VIVIENDA'].value_counts()"
   ]
  },
  {
   "cell_type": "code",
   "execution_count": 313,
   "id": "e9f64302",
   "metadata": {},
   "outputs": [
    {
     "data": {
      "text/html": [
       "<div>\n",
       "<style scoped>\n",
       "    .dataframe tbody tr th:only-of-type {\n",
       "        vertical-align: middle;\n",
       "    }\n",
       "\n",
       "    .dataframe tbody tr th {\n",
       "        vertical-align: top;\n",
       "    }\n",
       "\n",
       "    .dataframe thead th {\n",
       "        text-align: right;\n",
       "    }\n",
       "</style>\n",
       "<table border=\"1\" class=\"dataframe\">\n",
       "  <thead>\n",
       "    <tr style=\"text-align: right;\">\n",
       "      <th></th>\n",
       "      <th>UBIGEO</th>\n",
       "      <th>prob_pago</th>\n",
       "      <th>MONTO_CREDITO</th>\n",
       "      <th>ESTRATO</th>\n",
       "      <th>T_VIVIENDA</th>\n",
       "      <th>SEXO</th>\n",
       "      <th>EDAD</th>\n",
       "      <th>ESTADO_CIVIL</th>\n",
       "      <th>EDUCACION</th>\n",
       "      <th>iNGRESO_MENSUAL</th>\n",
       "    </tr>\n",
       "  </thead>\n",
       "  <tbody>\n",
       "    <tr>\n",
       "      <th>9967</th>\n",
       "      <td>21201</td>\n",
       "      <td>0</td>\n",
       "      <td>2000.0</td>\n",
       "      <td>1.0</td>\n",
       "      <td>0</td>\n",
       "      <td>1</td>\n",
       "      <td>32.0</td>\n",
       "      <td>1</td>\n",
       "      <td>2</td>\n",
       "      <td>4400.0</td>\n",
       "    </tr>\n",
       "    <tr>\n",
       "      <th>9969</th>\n",
       "      <td>21201</td>\n",
       "      <td>0</td>\n",
       "      <td>2000.0</td>\n",
       "      <td>1.0</td>\n",
       "      <td>0</td>\n",
       "      <td>1</td>\n",
       "      <td>32.0</td>\n",
       "      <td>1</td>\n",
       "      <td>2</td>\n",
       "      <td>4400.0</td>\n",
       "    </tr>\n",
       "    <tr>\n",
       "      <th>9971</th>\n",
       "      <td>21201</td>\n",
       "      <td>0</td>\n",
       "      <td>2000.0</td>\n",
       "      <td>1.0</td>\n",
       "      <td>0</td>\n",
       "      <td>1</td>\n",
       "      <td>32.0</td>\n",
       "      <td>1</td>\n",
       "      <td>2</td>\n",
       "      <td>4400.0</td>\n",
       "    </tr>\n",
       "    <tr>\n",
       "      <th>9973</th>\n",
       "      <td>21201</td>\n",
       "      <td>0</td>\n",
       "      <td>2000.0</td>\n",
       "      <td>1.0</td>\n",
       "      <td>0</td>\n",
       "      <td>1</td>\n",
       "      <td>32.0</td>\n",
       "      <td>1</td>\n",
       "      <td>2</td>\n",
       "      <td>4400.0</td>\n",
       "    </tr>\n",
       "    <tr>\n",
       "      <th>9975</th>\n",
       "      <td>21201</td>\n",
       "      <td>0</td>\n",
       "      <td>2000.0</td>\n",
       "      <td>1.0</td>\n",
       "      <td>0</td>\n",
       "      <td>2</td>\n",
       "      <td>29.0</td>\n",
       "      <td>1</td>\n",
       "      <td>2</td>\n",
       "      <td>4400.0</td>\n",
       "    </tr>\n",
       "  </tbody>\n",
       "</table>\n",
       "</div>"
      ],
      "text/plain": [
       "      UBIGEO  prob_pago  MONTO_CREDITO  ESTRATO  T_VIVIENDA SEXO  EDAD  \\\n",
       "9967   21201          0         2000.0      1.0           0    1  32.0   \n",
       "9969   21201          0         2000.0      1.0           0    1  32.0   \n",
       "9971   21201          0         2000.0      1.0           0    1  32.0   \n",
       "9973   21201          0         2000.0      1.0           0    1  32.0   \n",
       "9975   21201          0         2000.0      1.0           0    2  29.0   \n",
       "\n",
       "     ESTADO_CIVIL  EDUCACION  iNGRESO_MENSUAL  \n",
       "9967            1          2           4400.0  \n",
       "9969            1          2           4400.0  \n",
       "9971            1          2           4400.0  \n",
       "9973            1          2           4400.0  \n",
       "9975            1          2           4400.0  "
      ]
     },
     "execution_count": 313,
     "metadata": {},
     "output_type": "execute_result"
    }
   ],
   "source": [
    "base_final.head()"
   ]
  },
  {
   "cell_type": "markdown",
   "id": "883f476d",
   "metadata": {},
   "source": [
    "### Particionar la muestra "
   ]
  },
  {
   "cell_type": "code",
   "execution_count": 314,
   "id": "0e3f72a0",
   "metadata": {},
   "outputs": [],
   "source": [
    "X, y = base_final.drop(columns = [\"prob_pago\"]), base_final[\"prob_pago\"]"
   ]
  },
  {
   "cell_type": "code",
   "execution_count": 347,
   "id": "7e979141",
   "metadata": {},
   "outputs": [],
   "source": [
    "from sklearn.model_selection import train_test_split\n",
    "X_train, X_test, y_train, y_test = train_test_split( X, y, test_size=0.3, random_state=4)"
   ]
  },
  {
   "cell_type": "code",
   "execution_count": 348,
   "id": "ed6bcd87",
   "metadata": {},
   "outputs": [
    {
     "name": "stdout",
     "output_type": "stream",
     "text": [
      "Train set: (564, 9) (564,)\n",
      "Test set: (243, 9) (243,)\n"
     ]
    }
   ],
   "source": [
    "print ('Train set:', X_train.shape,  y_train.shape)\n",
    "print ('Test set:', X_test.shape,  y_test.shape)"
   ]
  },
  {
   "cell_type": "code",
   "execution_count": 349,
   "id": "e9f79e30",
   "metadata": {},
   "outputs": [],
   "source": [
    "df_train = pd.concat([X_train, y_train], axis=1)\n",
    "df_test = pd.concat([X_test, y_test], axis=1)"
   ]
  },
  {
   "cell_type": "code",
   "execution_count": 350,
   "id": "8c320615",
   "metadata": {},
   "outputs": [
    {
     "data": {
      "text/html": [
       "<div>\n",
       "<style scoped>\n",
       "    .dataframe tbody tr th:only-of-type {\n",
       "        vertical-align: middle;\n",
       "    }\n",
       "\n",
       "    .dataframe tbody tr th {\n",
       "        vertical-align: top;\n",
       "    }\n",
       "\n",
       "    .dataframe thead th {\n",
       "        text-align: right;\n",
       "    }\n",
       "</style>\n",
       "<table border=\"1\" class=\"dataframe\">\n",
       "  <thead>\n",
       "    <tr style=\"text-align: right;\">\n",
       "      <th></th>\n",
       "      <th>UBIGEO</th>\n",
       "      <th>MONTO_CREDITO</th>\n",
       "      <th>ESTRATO</th>\n",
       "      <th>T_VIVIENDA</th>\n",
       "      <th>SEXO</th>\n",
       "      <th>EDAD</th>\n",
       "      <th>ESTADO_CIVIL</th>\n",
       "      <th>EDUCACION</th>\n",
       "      <th>iNGRESO_MENSUAL</th>\n",
       "      <th>prob_pago</th>\n",
       "    </tr>\n",
       "  </thead>\n",
       "  <tbody>\n",
       "    <tr>\n",
       "      <th>1950430</th>\n",
       "      <td>200506</td>\n",
       "      <td>5000.0</td>\n",
       "      <td>1.0</td>\n",
       "      <td>1</td>\n",
       "      <td>1</td>\n",
       "      <td>62.0</td>\n",
       "      <td>2</td>\n",
       "      <td>2</td>\n",
       "      <td>210.0</td>\n",
       "      <td>0</td>\n",
       "    </tr>\n",
       "    <tr>\n",
       "      <th>1950478</th>\n",
       "      <td>200506</td>\n",
       "      <td>5000.0</td>\n",
       "      <td>1.0</td>\n",
       "      <td>1</td>\n",
       "      <td>2</td>\n",
       "      <td>58.0</td>\n",
       "      <td>2</td>\n",
       "      <td>2</td>\n",
       "      <td>210.0</td>\n",
       "      <td>0</td>\n",
       "    </tr>\n",
       "    <tr>\n",
       "      <th>1653307</th>\n",
       "      <td>200104</td>\n",
       "      <td>10000.0</td>\n",
       "      <td>1.0</td>\n",
       "      <td>1</td>\n",
       "      <td>1</td>\n",
       "      <td>19.0</td>\n",
       "      <td>6</td>\n",
       "      <td>2</td>\n",
       "      <td>204.0</td>\n",
       "      <td>0</td>\n",
       "    </tr>\n",
       "    <tr>\n",
       "      <th>49204</th>\n",
       "      <td>100801</td>\n",
       "      <td>2000.0</td>\n",
       "      <td>0.0</td>\n",
       "      <td>1</td>\n",
       "      <td>1</td>\n",
       "      <td>46.0</td>\n",
       "      <td>2</td>\n",
       "      <td>2</td>\n",
       "      <td>240.0</td>\n",
       "      <td>0</td>\n",
       "    </tr>\n",
       "    <tr>\n",
       "      <th>140052</th>\n",
       "      <td>250105</td>\n",
       "      <td>10000.0</td>\n",
       "      <td>1.0</td>\n",
       "      <td>1</td>\n",
       "      <td>1</td>\n",
       "      <td>52.0</td>\n",
       "      <td>2</td>\n",
       "      <td>1</td>\n",
       "      <td>204.0</td>\n",
       "      <td>0</td>\n",
       "    </tr>\n",
       "  </tbody>\n",
       "</table>\n",
       "</div>"
      ],
      "text/plain": [
       "         UBIGEO  MONTO_CREDITO  ESTRATO  T_VIVIENDA SEXO  EDAD ESTADO_CIVIL  \\\n",
       "1950430  200506         5000.0      1.0           1    1  62.0            2   \n",
       "1950478  200506         5000.0      1.0           1    2  58.0            2   \n",
       "1653307  200104        10000.0      1.0           1    1  19.0            6   \n",
       "49204    100801         2000.0      0.0           1    1  46.0            2   \n",
       "140052   250105        10000.0      1.0           1    1  52.0            2   \n",
       "\n",
       "         EDUCACION  iNGRESO_MENSUAL  prob_pago  \n",
       "1950430          2            210.0          0  \n",
       "1950478          2            210.0          0  \n",
       "1653307          2            204.0          0  \n",
       "49204            2            240.0          0  \n",
       "140052           1            204.0          0  "
      ]
     },
     "execution_count": 350,
     "metadata": {},
     "output_type": "execute_result"
    }
   ],
   "source": [
    "df_train.head()"
   ]
  },
  {
   "cell_type": "code",
   "execution_count": 351,
   "id": "f7a7ce35",
   "metadata": {},
   "outputs": [
    {
     "data": {
      "text/html": [
       "<div>\n",
       "<style scoped>\n",
       "    .dataframe tbody tr th:only-of-type {\n",
       "        vertical-align: middle;\n",
       "    }\n",
       "\n",
       "    .dataframe tbody tr th {\n",
       "        vertical-align: top;\n",
       "    }\n",
       "\n",
       "    .dataframe thead th {\n",
       "        text-align: right;\n",
       "    }\n",
       "</style>\n",
       "<table border=\"1\" class=\"dataframe\">\n",
       "  <thead>\n",
       "    <tr style=\"text-align: right;\">\n",
       "      <th></th>\n",
       "      <th>UBIGEO</th>\n",
       "      <th>MONTO_CREDITO</th>\n",
       "      <th>ESTRATO</th>\n",
       "      <th>T_VIVIENDA</th>\n",
       "      <th>SEXO</th>\n",
       "      <th>EDAD</th>\n",
       "      <th>ESTADO_CIVIL</th>\n",
       "      <th>EDUCACION</th>\n",
       "      <th>iNGRESO_MENSUAL</th>\n",
       "      <th>prob_pago</th>\n",
       "    </tr>\n",
       "  </thead>\n",
       "  <tbody>\n",
       "    <tr>\n",
       "      <th>171108</th>\n",
       "      <td>20101</td>\n",
       "      <td>15000.0</td>\n",
       "      <td>1.0</td>\n",
       "      <td>0</td>\n",
       "      <td>2</td>\n",
       "      <td>34.0</td>\n",
       "      <td>2</td>\n",
       "      <td>1</td>\n",
       "      <td>2000.0</td>\n",
       "      <td>0</td>\n",
       "    </tr>\n",
       "    <tr>\n",
       "      <th>470825</th>\n",
       "      <td>220901</td>\n",
       "      <td>600000.0</td>\n",
       "      <td>1.0</td>\n",
       "      <td>1</td>\n",
       "      <td>1</td>\n",
       "      <td>22.0</td>\n",
       "      <td>6</td>\n",
       "      <td>2</td>\n",
       "      <td>12920.0</td>\n",
       "      <td>1</td>\n",
       "    </tr>\n",
       "    <tr>\n",
       "      <th>181166</th>\n",
       "      <td>40115</td>\n",
       "      <td>20000.0</td>\n",
       "      <td>0.0</td>\n",
       "      <td>1</td>\n",
       "      <td>2</td>\n",
       "      <td>28.0</td>\n",
       "      <td>1</td>\n",
       "      <td>2</td>\n",
       "      <td>9200.0</td>\n",
       "      <td>0</td>\n",
       "    </tr>\n",
       "    <tr>\n",
       "      <th>140132</th>\n",
       "      <td>250105</td>\n",
       "      <td>10000.0</td>\n",
       "      <td>1.0</td>\n",
       "      <td>1</td>\n",
       "      <td>1</td>\n",
       "      <td>19.0</td>\n",
       "      <td>6</td>\n",
       "      <td>2</td>\n",
       "      <td>204.0</td>\n",
       "      <td>0</td>\n",
       "    </tr>\n",
       "    <tr>\n",
       "      <th>123159</th>\n",
       "      <td>210101</td>\n",
       "      <td>4000.0</td>\n",
       "      <td>1.0</td>\n",
       "      <td>1</td>\n",
       "      <td>1</td>\n",
       "      <td>52.0</td>\n",
       "      <td>2</td>\n",
       "      <td>2</td>\n",
       "      <td>18000.0</td>\n",
       "      <td>0</td>\n",
       "    </tr>\n",
       "  </tbody>\n",
       "</table>\n",
       "</div>"
      ],
      "text/plain": [
       "        UBIGEO  MONTO_CREDITO  ESTRATO  T_VIVIENDA SEXO  EDAD ESTADO_CIVIL  \\\n",
       "171108   20101        15000.0      1.0           0    2  34.0            2   \n",
       "470825  220901       600000.0      1.0           1    1  22.0            6   \n",
       "181166   40115        20000.0      0.0           1    2  28.0            1   \n",
       "140132  250105        10000.0      1.0           1    1  19.0            6   \n",
       "123159  210101         4000.0      1.0           1    1  52.0            2   \n",
       "\n",
       "        EDUCACION  iNGRESO_MENSUAL  prob_pago  \n",
       "171108          1           2000.0          0  \n",
       "470825          2          12920.0          1  \n",
       "181166          2           9200.0          0  \n",
       "140132          2            204.0          0  \n",
       "123159          2          18000.0          0  "
      ]
     },
     "execution_count": 351,
     "metadata": {},
     "output_type": "execute_result"
    }
   ],
   "source": [
    "df_test.head()"
   ]
  },
  {
   "cell_type": "code",
   "execution_count": 352,
   "id": "a12fe1d3",
   "metadata": {},
   "outputs": [],
   "source": [
    "### Analisis missings"
   ]
  },
  {
   "cell_type": "code",
   "execution_count": 353,
   "id": "390a4f52",
   "metadata": {},
   "outputs": [
    {
     "name": "stdout",
     "output_type": "stream",
     "text": [
      "Valores perdidos por columna\n",
      "UBIGEO             0\n",
      "MONTO_CREDITO      0\n",
      "ESTRATO            0\n",
      "T_VIVIENDA         0\n",
      "SEXO               0\n",
      "EDAD               0\n",
      "ESTADO_CIVIL       0\n",
      "EDUCACION          0\n",
      "iNGRESO_MENSUAL    0\n",
      "prob_pago          0\n",
      "dtype: int64\n"
     ]
    }
   ],
   "source": [
    "def num_missing(x):\n",
    "    return sum(x.isnull())\n",
    "\n",
    "#Aplicamos por columna:\n",
    "print (\"Valores perdidos por columna\")\n",
    "print (df_train.apply(num_missing, axis=0))"
   ]
  },
  {
   "cell_type": "code",
   "execution_count": 354,
   "id": "8f475e31",
   "metadata": {},
   "outputs": [],
   "source": [
    "target =\"prob_pago\""
   ]
  },
  {
   "cell_type": "code",
   "execution_count": 355,
   "id": "b9163e6f",
   "metadata": {},
   "outputs": [],
   "source": [
    "from scipy.stats import mode\n",
    "\n",
    "for column in cols_categoricas:\n",
    "    if column != target:\n",
    "        df_train[column] = df_train[column].fillna(df_train[column].mode()[0])\n",
    "    \n",
    "for column in cols_continuas:\n",
    "    if column != target:\n",
    "        df_train[column] = df_train[column].fillna(df_train[column].median())"
   ]
  },
  {
   "cell_type": "raw",
   "id": "cb9e25ef",
   "metadata": {},
   "source": [
    "#Aplicamos por columna:\n",
    "print (\"Valores perdidos por columna\")\n",
    "print (df_train.apply(num_missing, axis=0))"
   ]
  },
  {
   "cell_type": "raw",
   "id": "5553464c",
   "metadata": {},
   "source": [
    "#Aplicamos lo mismo al test para imputacion\n",
    "from scipy.stats import mode\n",
    "\n",
    "for column in cols_categoricas:\n",
    "    if column != target:\n",
    "        df_test[column] = df_test[column].fillna(df_train[column].mode()[0])\n",
    "    \n",
    "for column in cols_continuas:\n",
    "    if column != target:\n",
    "        df_test[column] = df_test[column].fillna(df_train[column].median())"
   ]
  },
  {
   "cell_type": "markdown",
   "id": "6b99001a",
   "metadata": {},
   "source": [
    "### Balanceo de datos "
   ]
  },
  {
   "cell_type": "markdown",
   "id": "d97d92ba",
   "metadata": {},
   "source": [
    "Se evalua la distribución de las clases a predecir, en nuestro caso de loans prediction es 2 y 1 las clases, siendo 1 el evento de interes de que si hizo default o impago la persona."
   ]
  },
  {
   "cell_type": "code",
   "execution_count": 356,
   "id": "bb2c84e9",
   "metadata": {},
   "outputs": [
    {
     "data": {
      "text/plain": [
       "0    497\n",
       "1     67\n",
       "Name: prob_pago, dtype: int64"
      ]
     },
     "execution_count": 356,
     "metadata": {},
     "output_type": "execute_result"
    }
   ],
   "source": [
    "df_train[\"prob_pago\"].value_counts()"
   ]
  },
  {
   "cell_type": "code",
   "execution_count": 357,
   "id": "4028f3e6",
   "metadata": {},
   "outputs": [],
   "source": [
    "cols = df_train.columns"
   ]
  },
  {
   "cell_type": "code",
   "execution_count": 358,
   "id": "4c6346bd",
   "metadata": {},
   "outputs": [],
   "source": [
    "X, y = df_train.drop(columns = [target]), df_train[\"prob_pago\"]"
   ]
  },
  {
   "cell_type": "code",
   "execution_count": 359,
   "id": "b2a03cd9",
   "metadata": {},
   "outputs": [
    {
     "data": {
      "text/html": [
       "<div>\n",
       "<style scoped>\n",
       "    .dataframe tbody tr th:only-of-type {\n",
       "        vertical-align: middle;\n",
       "    }\n",
       "\n",
       "    .dataframe tbody tr th {\n",
       "        vertical-align: top;\n",
       "    }\n",
       "\n",
       "    .dataframe thead th {\n",
       "        text-align: right;\n",
       "    }\n",
       "</style>\n",
       "<table border=\"1\" class=\"dataframe\">\n",
       "  <thead>\n",
       "    <tr style=\"text-align: right;\">\n",
       "      <th></th>\n",
       "      <th>UBIGEO</th>\n",
       "      <th>MONTO_CREDITO</th>\n",
       "      <th>ESTRATO</th>\n",
       "      <th>T_VIVIENDA</th>\n",
       "      <th>SEXO</th>\n",
       "      <th>EDAD</th>\n",
       "      <th>ESTADO_CIVIL</th>\n",
       "      <th>EDUCACION</th>\n",
       "      <th>iNGRESO_MENSUAL</th>\n",
       "    </tr>\n",
       "  </thead>\n",
       "  <tbody>\n",
       "    <tr>\n",
       "      <th>1950430</th>\n",
       "      <td>200506</td>\n",
       "      <td>5000.0</td>\n",
       "      <td>1.0</td>\n",
       "      <td>1</td>\n",
       "      <td>1</td>\n",
       "      <td>62.0</td>\n",
       "      <td>2</td>\n",
       "      <td>2</td>\n",
       "      <td>210.0</td>\n",
       "    </tr>\n",
       "    <tr>\n",
       "      <th>1950478</th>\n",
       "      <td>200506</td>\n",
       "      <td>5000.0</td>\n",
       "      <td>1.0</td>\n",
       "      <td>1</td>\n",
       "      <td>2</td>\n",
       "      <td>58.0</td>\n",
       "      <td>2</td>\n",
       "      <td>2</td>\n",
       "      <td>210.0</td>\n",
       "    </tr>\n",
       "    <tr>\n",
       "      <th>1653307</th>\n",
       "      <td>200104</td>\n",
       "      <td>10000.0</td>\n",
       "      <td>1.0</td>\n",
       "      <td>1</td>\n",
       "      <td>1</td>\n",
       "      <td>19.0</td>\n",
       "      <td>6</td>\n",
       "      <td>2</td>\n",
       "      <td>204.0</td>\n",
       "    </tr>\n",
       "    <tr>\n",
       "      <th>49204</th>\n",
       "      <td>100801</td>\n",
       "      <td>2000.0</td>\n",
       "      <td>0.0</td>\n",
       "      <td>1</td>\n",
       "      <td>1</td>\n",
       "      <td>46.0</td>\n",
       "      <td>2</td>\n",
       "      <td>2</td>\n",
       "      <td>240.0</td>\n",
       "    </tr>\n",
       "    <tr>\n",
       "      <th>140052</th>\n",
       "      <td>250105</td>\n",
       "      <td>10000.0</td>\n",
       "      <td>1.0</td>\n",
       "      <td>1</td>\n",
       "      <td>1</td>\n",
       "      <td>52.0</td>\n",
       "      <td>2</td>\n",
       "      <td>1</td>\n",
       "      <td>204.0</td>\n",
       "    </tr>\n",
       "  </tbody>\n",
       "</table>\n",
       "</div>"
      ],
      "text/plain": [
       "         UBIGEO  MONTO_CREDITO  ESTRATO  T_VIVIENDA SEXO  EDAD ESTADO_CIVIL  \\\n",
       "1950430  200506         5000.0      1.0           1    1  62.0            2   \n",
       "1950478  200506         5000.0      1.0           1    2  58.0            2   \n",
       "1653307  200104        10000.0      1.0           1    1  19.0            6   \n",
       "49204    100801         2000.0      0.0           1    1  46.0            2   \n",
       "140052   250105        10000.0      1.0           1    1  52.0            2   \n",
       "\n",
       "         EDUCACION  iNGRESO_MENSUAL  \n",
       "1950430          2            210.0  \n",
       "1950478          2            210.0  \n",
       "1653307          2            204.0  \n",
       "49204            2            240.0  \n",
       "140052           1            204.0  "
      ]
     },
     "execution_count": 359,
     "metadata": {},
     "output_type": "execute_result"
    }
   ],
   "source": [
    "X.head()"
   ]
  },
  {
   "cell_type": "code",
   "execution_count": 360,
   "id": "f6d26b2b",
   "metadata": {},
   "outputs": [
    {
     "data": {
      "text/plain": [
       "1950430    0\n",
       "1950478    0\n",
       "1653307    0\n",
       "49204      0\n",
       "140052     0\n",
       "Name: prob_pago, dtype: int64"
      ]
     },
     "execution_count": 360,
     "metadata": {},
     "output_type": "execute_result"
    }
   ],
   "source": [
    "y.head()"
   ]
  },
  {
   "cell_type": "raw",
   "id": "051c9fdd",
   "metadata": {},
   "source": [
    "pip install imbalanced-learn"
   ]
  },
  {
   "cell_type": "code",
   "execution_count": 361,
   "id": "08073c3a",
   "metadata": {},
   "outputs": [],
   "source": [
    "from imblearn.over_sampling import SMOTE\n",
    "\n",
    "smote = SMOTE()\n",
    "X_sm, y_sm = smote.fit_resample(X, y)\n",
    "\n",
    "columns_X = X.columns\n",
    "columns_y = [target]\n",
    "\n",
    "df_X_sm = pd.DataFrame(data=X_sm,columns=columns_X)\n",
    "df_y_sm = pd.DataFrame(data=y_sm,columns=columns_y)\n",
    "\n",
    "# Concatenamos la información\n",
    "df_balanceado_sm = pd.concat([df_X_sm, df_y_sm], axis=1)"
   ]
  },
  {
   "cell_type": "code",
   "execution_count": 362,
   "id": "6cb61d16",
   "metadata": {},
   "outputs": [
    {
     "data": {
      "text/plain": [
       "0    497\n",
       "1    497\n",
       "Name: prob_pago, dtype: int64"
      ]
     },
     "execution_count": 362,
     "metadata": {},
     "output_type": "execute_result"
    }
   ],
   "source": [
    "df_balanceado_sm[\"prob_pago\"].value_counts()"
   ]
  },
  {
   "cell_type": "code",
   "execution_count": 363,
   "id": "081ed0f9",
   "metadata": {},
   "outputs": [
    {
     "data": {
      "text/plain": [
       "(994, 10)"
      ]
     },
     "execution_count": 363,
     "metadata": {},
     "output_type": "execute_result"
    }
   ],
   "source": [
    "df_balanceado_sm.shape"
   ]
  },
  {
   "cell_type": "code",
   "execution_count": 364,
   "id": "a4bc0da3",
   "metadata": {},
   "outputs": [],
   "source": [
    "X_ros = df_X_sm\n",
    "y_ros = df_y_sm"
   ]
  },
  {
   "cell_type": "markdown",
   "id": "d1863c11",
   "metadata": {},
   "source": [
    "### Selección de Variables"
   ]
  },
  {
   "cell_type": "code",
   "execution_count": 365,
   "id": "91886cc1",
   "metadata": {},
   "outputs": [
    {
     "name": "stderr",
     "output_type": "stream",
     "text": [
      "C:\\Users\\LENOVO\\anaconda3\\lib\\site-packages\\sklearn\\utils\\validation.py:70: FutureWarning: Pass n_features_to_select=8 as keyword args. From version 1.0 (renaming of 0.25) passing these as positional arguments will result in an error\n",
      "  warnings.warn(f\"Pass {args_msg} as keyword args. From version \"\n",
      "C:\\Users\\LENOVO\\anaconda3\\lib\\site-packages\\sklearn\\utils\\validation.py:63: DataConversionWarning: A column-vector y was passed when a 1d array was expected. Please change the shape of y to (n_samples, ), for example using ravel().\n",
      "  return f(*args, **kwargs)\n",
      "C:\\Users\\LENOVO\\anaconda3\\lib\\site-packages\\sklearn\\utils\\validation.py:63: DataConversionWarning: A column-vector y was passed when a 1d array was expected. Please change the shape of y to (n_samples, ), for example using ravel().\n",
      "  return f(*args, **kwargs)\n"
     ]
    }
   ],
   "source": [
    "# Feature Extraction with RFE\n",
    "from pandas import read_csv\n",
    "from sklearn.feature_selection import RFE\n",
    "from sklearn.linear_model import LogisticRegression\n",
    "\n",
    "# feature extraction\n",
    "model = LogisticRegression()\n",
    "rfe = RFE(model,8)\n",
    "fit = rfe.fit(X_ros, y_ros)"
   ]
  },
  {
   "cell_type": "code",
   "execution_count": 366,
   "id": "88aafea8",
   "metadata": {},
   "outputs": [
    {
     "data": {
      "image/png": "[encoded data removed]",
      "text/plain": [
       "<Figure size 432x288 with 1 Axes>"
      ]
     },
     "metadata": {
      "needs_background": "light"
     },
     "output_type": "display_data"
    }
   ],
   "source": [
    "# horizontal bar plot of feature importance\n",
    "pos = np.arange(len(X_ros.columns)) + 0.5\n",
    "plt.barh(pos, fit.ranking_, align='center')\n",
    "plt.title(\"Feature Importance\")\n",
    "plt.xlabel(\"Número de Modelos\")\n",
    "plt.ylabel(\"Features\")\n",
    "plt.yticks(pos, (X.columns))\n",
    "plt.grid(True)"
   ]
  },
  {
   "cell_type": "code",
   "execution_count": 367,
   "id": "065a583b",
   "metadata": {},
   "outputs": [
    {
     "data": {
      "text/plain": [
       "array([False,  True,  True,  True,  True,  True,  True,  True,  True])"
      ]
     },
     "execution_count": 367,
     "metadata": {},
     "output_type": "execute_result"
    }
   ],
   "source": [
    "fit.support_"
   ]
  },
  {
   "cell_type": "code",
   "execution_count": 368,
   "id": "61487855",
   "metadata": {},
   "outputs": [],
   "source": [
    "features_selected = X.columns[fit.support_]"
   ]
  },
  {
   "cell_type": "code",
   "execution_count": 369,
   "id": "18ea4d93",
   "metadata": {},
   "outputs": [
    {
     "data": {
      "text/plain": [
       "Index(['MONTO_CREDITO', 'ESTRATO', 'T_VIVIENDA', 'SEXO', 'EDAD',\n",
       "       'ESTADO_CIVIL', 'EDUCACION', 'iNGRESO_MENSUAL'],\n",
       "      dtype='object')"
      ]
     },
     "execution_count": 369,
     "metadata": {},
     "output_type": "execute_result"
    }
   ],
   "source": [
    "features_selected"
   ]
  },
  {
   "cell_type": "code",
   "execution_count": 370,
   "id": "42a790c5",
   "metadata": {},
   "outputs": [],
   "source": [
    "y_train = y_ros\n",
    "X_train = X_ros[features_selected]"
   ]
  },
  {
   "cell_type": "code",
   "execution_count": 371,
   "id": "83f8946e",
   "metadata": {},
   "outputs": [
    {
     "name": "stderr",
     "output_type": "stream",
     "text": [
      "C:\\Users\\LENOVO\\anaconda3\\lib\\site-packages\\sklearn\\utils\\validation.py:63: DataConversionWarning: A column-vector y was passed when a 1d array was expected. Please change the shape of y to (n_samples, ), for example using ravel().\n",
      "  return f(*args, **kwargs)\n",
      "C:\\Users\\LENOVO\\anaconda3\\lib\\site-packages\\sklearn\\utils\\validation.py:63: DataConversionWarning: A column-vector y was passed when a 1d array was expected. Please change the shape of y to (n_samples, ), for example using ravel().\n",
      "  return f(*args, **kwargs)\n",
      "C:\\Users\\LENOVO\\anaconda3\\lib\\site-packages\\sklearn\\utils\\validation.py:63: DataConversionWarning: A column-vector y was passed when a 1d array was expected. Please change the shape of y to (n_samples, ), for example using ravel().\n",
      "  return f(*args, **kwargs)\n",
      "C:\\Users\\LENOVO\\anaconda3\\lib\\site-packages\\sklearn\\utils\\validation.py:63: DataConversionWarning: A column-vector y was passed when a 1d array was expected. Please change the shape of y to (n_samples, ), for example using ravel().\n",
      "  return f(*args, **kwargs)\n",
      "C:\\Users\\LENOVO\\anaconda3\\lib\\site-packages\\sklearn\\utils\\validation.py:63: DataConversionWarning: A column-vector y was passed when a 1d array was expected. Please change the shape of y to (n_samples, ), for example using ravel().\n",
      "  return f(*args, **kwargs)\n",
      "C:\\Users\\LENOVO\\anaconda3\\lib\\site-packages\\sklearn\\utils\\validation.py:63: DataConversionWarning: A column-vector y was passed when a 1d array was expected. Please change the shape of y to (n_samples, ), for example using ravel().\n",
      "  return f(*args, **kwargs)\n",
      "C:\\Users\\LENOVO\\anaconda3\\lib\\site-packages\\sklearn\\utils\\validation.py:63: DataConversionWarning: A column-vector y was passed when a 1d array was expected. Please change the shape of y to (n_samples, ), for example using ravel().\n",
      "  return f(*args, **kwargs)\n"
     ]
    },
    {
     "name": "stdout",
     "output_type": "stream",
     "text": [
      "10-fold cross validation average accuracy: 0.613\n"
     ]
    },
    {
     "name": "stderr",
     "output_type": "stream",
     "text": [
      "C:\\Users\\LENOVO\\anaconda3\\lib\\site-packages\\sklearn\\utils\\validation.py:63: DataConversionWarning: A column-vector y was passed when a 1d array was expected. Please change the shape of y to (n_samples, ), for example using ravel().\n",
      "  return f(*args, **kwargs)\n",
      "C:\\Users\\LENOVO\\anaconda3\\lib\\site-packages\\sklearn\\utils\\validation.py:63: DataConversionWarning: A column-vector y was passed when a 1d array was expected. Please change the shape of y to (n_samples, ), for example using ravel().\n",
      "  return f(*args, **kwargs)\n",
      "C:\\Users\\LENOVO\\anaconda3\\lib\\site-packages\\sklearn\\utils\\validation.py:63: DataConversionWarning: A column-vector y was passed when a 1d array was expected. Please change the shape of y to (n_samples, ), for example using ravel().\n",
      "  return f(*args, **kwargs)\n"
     ]
    },
    {
     "data": {
      "text/plain": [
       "array([0.62      , 0.63      , 0.53      , 0.58      , 0.65656566,\n",
       "       0.64646465, 0.74747475, 0.66666667, 0.47474747, 0.57575758])"
      ]
     },
     "execution_count": 371,
     "metadata": {},
     "output_type": "execute_result"
    }
   ],
   "source": [
    "from sklearn import model_selection\n",
    "from sklearn.model_selection import cross_val_score\n",
    "\n",
    "kfold = model_selection.KFold(n_splits=10)\n",
    "lr = LogisticRegression()\n",
    "scoring = 'accuracy'\n",
    "results = model_selection.cross_val_score(lr, X_train, y_train, cv=kfold, scoring=scoring)\n",
    "print(\"10-fold cross validation average accuracy: %.3f\" % (results.mean()))\n",
    "results"
   ]
  },
  {
   "cell_type": "code",
   "execution_count": 372,
   "id": "55264b97",
   "metadata": {},
   "outputs": [],
   "source": [
    "### Evaluación del Modelo"
   ]
  },
  {
   "cell_type": "code",
   "execution_count": 373,
   "id": "b22ae110",
   "metadata": {},
   "outputs": [],
   "source": [
    "from sklearn.metrics import classification_report\n",
    "from sklearn.metrics import log_loss\n",
    "from sklearn.metrics import (precision_score, recall_score,f1_score,accuracy_score)"
   ]
  },
  {
   "cell_type": "code",
   "execution_count": 374,
   "id": "253c3297",
   "metadata": {},
   "outputs": [
    {
     "name": "stderr",
     "output_type": "stream",
     "text": [
      "C:\\Users\\LENOVO\\anaconda3\\lib\\site-packages\\sklearn\\utils\\validation.py:63: DataConversionWarning: A column-vector y was passed when a 1d array was expected. Please change the shape of y to (n_samples, ), for example using ravel().\n",
      "  return f(*args, **kwargs)\n"
     ]
    },
    {
     "data": {
      "text/plain": [
       "LogisticRegression()"
      ]
     },
     "execution_count": 374,
     "metadata": {},
     "output_type": "execute_result"
    }
   ],
   "source": [
    "from sklearn.linear_model import LogisticRegression\n",
    "\n",
    "lr = LogisticRegression()\n",
    "lr.fit(X_train, y_train)"
   ]
  },
  {
   "cell_type": "code",
   "execution_count": 375,
   "id": "b404c093",
   "metadata": {},
   "outputs": [],
   "source": [
    "X_test = df_test[features_selected]\n",
    "y_pred=lr.predict(X_test)\n",
    "yhat_prob = lr.predict_proba(X_test)"
   ]
  },
  {
   "cell_type": "code",
   "execution_count": 376,
   "id": "433c9faf",
   "metadata": {},
   "outputs": [],
   "source": [
    "### Indicadores de rendimiento de modelos"
   ]
  },
  {
   "cell_type": "code",
   "execution_count": 377,
   "id": "59389cc5",
   "metadata": {},
   "outputs": [
    {
     "name": "stdout",
     "output_type": "stream",
     "text": [
      "              precision    recall  f1-score   support\n",
      "\n",
      "           0       0.94      0.61      0.74       218\n",
      "           1       0.16      0.64      0.26        25\n",
      "\n",
      "    accuracy                           0.62       243\n",
      "   macro avg       0.55      0.63      0.50       243\n",
      "weighted avg       0.86      0.62      0.69       243\n",
      "\n"
     ]
    }
   ],
   "source": [
    "# Obtenemos la matriz de confusión con las métricas anteriores\n",
    "print(classification_report(y_test, y_pred))"
   ]
  },
  {
   "cell_type": "code",
   "execution_count": 378,
   "id": "7382c40a",
   "metadata": {},
   "outputs": [
    {
     "name": "stdout",
     "output_type": "stream",
     "text": [
      "\tIndicadores:\n",
      "\t1. Accuracy: 0.617\n",
      "\t2. Precision: 0.160\n",
      "\t3. Recall: 0.640\n",
      "\t4. F1: 0.256\n",
      "\t5. Log loss: 0.586\n",
      "\n"
     ]
    }
   ],
   "source": [
    "print(\"\\tIndicadores:\")\n",
    "print(\"\\t1. Accuracy: %1.3f\" % accuracy_score(y_test, y_pred))\n",
    "print(\"\\t2. Precision: %1.3f\" % precision_score(y_test, y_pred))\n",
    "print(\"\\t3. Recall: %1.3f\" % recall_score(y_test, y_pred))\n",
    "print(\"\\t4. F1: %1.3f\" % f1_score(y_test, y_pred))\n",
    "print(\"\\t5. Log loss: %1.3f\\n\" % log_loss(y_test, yhat_prob))"
   ]
  },
  {
   "cell_type": "code",
   "execution_count": null,
   "id": "0879bf73",
   "metadata": {},
   "outputs": [],
   "source": []
  },
  {
   "cell_type": "code",
   "execution_count": null,
   "id": "8b9baa6e",
   "metadata": {},
   "outputs": [],
   "source": []
  },
  {
   "cell_type": "code",
   "execution_count": null,
   "id": "c826a71b",
   "metadata": {},
   "outputs": [],
   "source": []
  },
  {
   "cell_type": "code",
   "execution_count": null,
   "id": "58cf3deb",
   "metadata": {},
   "outputs": [],
   "source": []
  }
 ],
 "metadata": {
  "kernelspec": {
   "display_name": "Python 3",
   "language": "python",
   "name": "python3"
  },
  "language_info": {
   "codemirror_mode": {
    "name": "ipython",
    "version": 3
   },
   "file_extension": ".py",
   "mimetype": "text/x-python",
   "name": "python",
   "nbconvert_exporter": "python",
   "pygments_lexer": "ipython3",
   "version": "3.8.8"
  }
 },
 "nbformat": 4,
 "nbformat_minor": 5
}
