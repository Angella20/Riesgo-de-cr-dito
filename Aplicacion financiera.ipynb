{
 "cells": [
  {
   "cell_type": "markdown",
   "id": "2fed9a88",
   "metadata": {},
   "source": [
    "# Aplicación Financiera: Riesgo Crediticio\n",
    "**En este notebook se mostrará un modelo de predicción de score crediticio. Usted puede encontrar las bases de datos en el [INEI](http://iinei.inei.gob.pe/microdatos/).**\n",
    "\n",
    "- Encuesta ENAHO Metodología actualizada\n",
    "- Año: 2020\n",
    "- Periodo: Anual\n",
    "\n",
    "---"
   ]
  },
  {
   "cell_type": "markdown",
   "id": "fe817323",
   "metadata": {},
   "source": [
    "Variables en el modelo:\n",
    "\n",
    "##### Variable Target\n",
    "- `P107E`: ¿Ha tenido dificultades que le han impedido cumplir con el cronograma de pagos del crédito o préstamo obtenido? Si/No\n",
    "\n",
    "\n",
    "##### Variables dependientes\n",
    "\n",
    "- `P207`: Sexo\n",
    "- `P208A` : ¿Qué edad tiene en años cumplidos? - En años \n",
    "- `P209` : ¿Cuál es su estado civil o conyugal?    \n",
    "> 1. Conviviente \n",
    "> 2. Casado(a)\n",
    "> 3. Viudo(a)  \n",
    "> 4. Divorciado(a)  \n",
    "> 5. Separado(a)  \n",
    "> 6. Soltero(a)  \n",
    "\n",
    "- `P107D4` : ¿Cúal fue el Monto Total del Crédito recibido? N\n",
    "- `P524A1` : Ingreso - Ingreso total-monto (S/.)\n",
    "- `P523` : En su ocupación principal, ¿A Ud. le pagan: \n",
    "> 1. Diario?\n",
    "> 2. Semanal?\n",
    "> 3. Quincenal?\n",
    "> 4. Mensual?  \n",
    "\n",
    "- `P301A` N ¿Cuál es el último año o grado de estudios y nivel que aprobó? – Nivel educativo     \n",
    "> 1 Sin nivel     \n",
    "> 2  Inicial     \n",
    "> 3 Primaria incompleta     \n",
    "> 4 Primaria completa     \n",
    "> 5 Secundaria incompleta     \n",
    "> 6 Secundaria completa     \n",
    "> 7 Superior no Universitaria Incompleta     \n",
    "> 8 Superior no Universitaria Completa     \n",
    "> 9 Superior Universitaria Incompleta     \n",
    "> 10 Superior Universitaria Completa     \n",
    "> 11 Maestri/Doctorado     \n",
    "> 12 Básica especial \n",
    "\n",
    "- `ESTRATO`: area urbana/rural\n",
    "- `P105A`: ¿La vivienda que ocupa su hogar es ?     \n",
    "> 1 Alquilada     \n",
    "> 2 Propia, totalmente pagada     \n",
    "> 3 Propia, por invasión     \n",
    "> 4 Propia, comprándola a plazos     \n",
    "> 5 Cedida por el centro de trabajo     \n",
    "> 6 Cedida por otro hogar o institución     \n",
    "> 7 Otra forma "
   ]
  },
  {
   "cell_type": "code",
   "execution_count": 5,
   "id": "f5b4587a",
   "metadata": {},
   "outputs": [],
   "source": [
    "# Librerías\n",
    "import pandas as pd\n",
    "import numpy as np\n",
    "import matplotlib.pyplot as plt\n",
    "import seaborn as sns # Se basa en Matplotlib y la complementa en el tema de graficos y demás."
   ]
  },
  {
   "cell_type": "markdown",
   "id": "d524ce43",
   "metadata": {},
   "source": [
    "# Importar bases de datos "
   ]
  },
  {
   "cell_type": "code",
   "execution_count": 6,
   "id": "5c58c511",
   "metadata": {},
   "outputs": [
    {
     "name": "stderr",
     "output_type": "stream",
     "text": [
      "C:\\Users\\angel\\AppData\\Local\\Temp\\ipykernel_2084\\2848342764.py:1: DtypeWarning: Columns (322) have mixed types. Specify dtype option on import or set low_memory=False.\n",
      "  data1=pd.read_csv('./datos/Enaho01-2020-100.csv',encoding='latin')\n",
      "C:\\Users\\angel\\AppData\\Local\\Temp\\ipykernel_2084\\2848342764.py:1: DtypeWarning: Columns (322) have mixed types. Specify dtype option on import or set low_memory=False.\n",
      "  data1=pd.read_csv('./datos/Enaho01-2020-100.csv',encoding='latin')\n"
     ]
    },
    {
     "data": {
      "text/plain": [
       "Index(['AÑO', 'MES', 'CONGLOME', 'VIVIENDA', 'HOGAR', 'UBIGEO', 'DOMINIO',\n",
       "       'ESTRATO', 'PERIODO', 'TIPENC',\n",
       "       ...\n",
       "       'FACTOR07', 'FACTOR_P', 'RECHAZO_RAZONES', 'NCONGLOME', 'SUB_CONGLOME',\n",
       "       'CODCCPP', 'NOMCCPP', 'LONGITUD', 'LATITUD', 'ALTITUD'],\n",
       "      dtype='object', length=331)"
      ]
     },
     "execution_count": 6,
     "metadata": {},
     "output_type": "execute_result"
    },
    {
     "data": {
      "text/plain": [
       "Index(['AÑO', 'MES', 'CONGLOME', 'VIVIENDA', 'HOGAR', 'UBIGEO', 'DOMINIO',\n",
       "       'ESTRATO', 'PERIODO', 'TIPENC',\n",
       "       ...\n",
       "       'FACTOR07', 'FACTOR_P', 'RECHAZO_RAZONES', 'NCONGLOME', 'SUB_CONGLOME',\n",
       "       'CODCCPP', 'NOMCCPP', 'LONGITUD', 'LATITUD', 'ALTITUD'],\n",
       "      dtype='object', length=331)"
      ]
     },
     "execution_count": 6,
     "metadata": {},
     "output_type": "execute_result"
    }
   ],
   "source": [
    "data1=pd.read_csv('./datos/Enaho01-2020-100.csv',encoding='latin')\n",
    "data1.columns"
   ]
  },
  {
   "cell_type": "code",
   "execution_count": 7,
   "id": "53c312d5",
   "metadata": {},
   "outputs": [
    {
     "data": {
      "text/html": [
       "<div>\n",
       "<style scoped>\n",
       "    .dataframe tbody tr th:only-of-type {\n",
       "        vertical-align: middle;\n",
       "    }\n",
       "\n",
       "    .dataframe tbody tr th {\n",
       "        vertical-align: top;\n",
       "    }\n",
       "\n",
       "    .dataframe thead th {\n",
       "        text-align: right;\n",
       "    }\n",
       "</style>\n",
       "<table border=\"1\" class=\"dataframe\">\n",
       "  <thead>\n",
       "    <tr style=\"text-align: right;\">\n",
       "      <th></th>\n",
       "      <th>CONGLOME</th>\n",
       "      <th>VIVIENDA</th>\n",
       "      <th>HOGAR</th>\n",
       "      <th>UBIGEO</th>\n",
       "      <th>P107E</th>\n",
       "      <th>P107D4</th>\n",
       "      <th>ESTRATO</th>\n",
       "      <th>P105A</th>\n",
       "    </tr>\n",
       "  </thead>\n",
       "  <tbody>\n",
       "    <tr>\n",
       "      <th>0</th>\n",
       "      <td>5009</td>\n",
       "      <td>12</td>\n",
       "      <td>11</td>\n",
       "      <td>10101</td>\n",
       "      <td></td>\n",
       "      <td></td>\n",
       "      <td>4</td>\n",
       "      <td>6</td>\n",
       "    </tr>\n",
       "    <tr>\n",
       "      <th>1</th>\n",
       "      <td>5009</td>\n",
       "      <td>41</td>\n",
       "      <td>11</td>\n",
       "      <td>10101</td>\n",
       "      <td></td>\n",
       "      <td></td>\n",
       "      <td>4</td>\n",
       "      <td>2</td>\n",
       "    </tr>\n",
       "    <tr>\n",
       "      <th>2</th>\n",
       "      <td>5009</td>\n",
       "      <td>56</td>\n",
       "      <td>11</td>\n",
       "      <td>10101</td>\n",
       "      <td></td>\n",
       "      <td></td>\n",
       "      <td>4</td>\n",
       "      <td></td>\n",
       "    </tr>\n",
       "    <tr>\n",
       "      <th>3</th>\n",
       "      <td>5009</td>\n",
       "      <td>84</td>\n",
       "      <td>11</td>\n",
       "      <td>10101</td>\n",
       "      <td></td>\n",
       "      <td></td>\n",
       "      <td>4</td>\n",
       "      <td></td>\n",
       "    </tr>\n",
       "    <tr>\n",
       "      <th>4</th>\n",
       "      <td>5009</td>\n",
       "      <td>98</td>\n",
       "      <td>11</td>\n",
       "      <td>10101</td>\n",
       "      <td></td>\n",
       "      <td></td>\n",
       "      <td>4</td>\n",
       "      <td>1</td>\n",
       "    </tr>\n",
       "  </tbody>\n",
       "</table>\n",
       "</div>"
      ],
      "text/plain": [
       "   CONGLOME  VIVIENDA  HOGAR  UBIGEO P107E P107D4  ESTRATO P105A\n",
       "0      5009        12     11   10101                     4     6\n",
       "1      5009        41     11   10101                     4     2\n",
       "2      5009        56     11   10101                     4      \n",
       "3      5009        84     11   10101                     4      \n",
       "4      5009        98     11   10101                     4     1"
      ]
     },
     "execution_count": 7,
     "metadata": {},
     "output_type": "execute_result"
    },
    {
     "data": {
      "text/html": [
       "<div>\n",
       "<style scoped>\n",
       "    .dataframe tbody tr th:only-of-type {\n",
       "        vertical-align: middle;\n",
       "    }\n",
       "\n",
       "    .dataframe tbody tr th {\n",
       "        vertical-align: top;\n",
       "    }\n",
       "\n",
       "    .dataframe thead th {\n",
       "        text-align: right;\n",
       "    }\n",
       "</style>\n",
       "<table border=\"1\" class=\"dataframe\">\n",
       "  <thead>\n",
       "    <tr style=\"text-align: right;\">\n",
       "      <th></th>\n",
       "      <th>CONGLOME</th>\n",
       "      <th>VIVIENDA</th>\n",
       "      <th>HOGAR</th>\n",
       "      <th>UBIGEO</th>\n",
       "      <th>P107E</th>\n",
       "      <th>P107D4</th>\n",
       "      <th>ESTRATO</th>\n",
       "      <th>P105A</th>\n",
       "    </tr>\n",
       "  </thead>\n",
       "  <tbody>\n",
       "    <tr>\n",
       "      <th>0</th>\n",
       "      <td>5009</td>\n",
       "      <td>12</td>\n",
       "      <td>11</td>\n",
       "      <td>10101</td>\n",
       "      <td></td>\n",
       "      <td></td>\n",
       "      <td>4</td>\n",
       "      <td>6</td>\n",
       "    </tr>\n",
       "    <tr>\n",
       "      <th>1</th>\n",
       "      <td>5009</td>\n",
       "      <td>41</td>\n",
       "      <td>11</td>\n",
       "      <td>10101</td>\n",
       "      <td></td>\n",
       "      <td></td>\n",
       "      <td>4</td>\n",
       "      <td>2</td>\n",
       "    </tr>\n",
       "    <tr>\n",
       "      <th>2</th>\n",
       "      <td>5009</td>\n",
       "      <td>56</td>\n",
       "      <td>11</td>\n",
       "      <td>10101</td>\n",
       "      <td></td>\n",
       "      <td></td>\n",
       "      <td>4</td>\n",
       "      <td></td>\n",
       "    </tr>\n",
       "    <tr>\n",
       "      <th>3</th>\n",
       "      <td>5009</td>\n",
       "      <td>84</td>\n",
       "      <td>11</td>\n",
       "      <td>10101</td>\n",
       "      <td></td>\n",
       "      <td></td>\n",
       "      <td>4</td>\n",
       "      <td></td>\n",
       "    </tr>\n",
       "    <tr>\n",
       "      <th>4</th>\n",
       "      <td>5009</td>\n",
       "      <td>98</td>\n",
       "      <td>11</td>\n",
       "      <td>10101</td>\n",
       "      <td></td>\n",
       "      <td></td>\n",
       "      <td>4</td>\n",
       "      <td>1</td>\n",
       "    </tr>\n",
       "  </tbody>\n",
       "</table>\n",
       "</div>"
      ],
      "text/plain": [
       "   CONGLOME  VIVIENDA  HOGAR  UBIGEO P107E P107D4  ESTRATO P105A\n",
       "0      5009        12     11   10101                     4     6\n",
       "1      5009        41     11   10101                     4     2\n",
       "2      5009        56     11   10101                     4      \n",
       "3      5009        84     11   10101                     4      \n",
       "4      5009        98     11   10101                     4     1"
      ]
     },
     "execution_count": 7,
     "metadata": {},
     "output_type": "execute_result"
    }
   ],
   "source": [
    "data1 = data1[['CONGLOME','VIVIENDA','HOGAR','UBIGEO',\"P107E\",\"P107D4\",\"ESTRATO\",\"P105A\"]]\n",
    "data1.head()"
   ]
  },
  {
   "cell_type": "code",
   "execution_count": 8,
   "id": "631e28e8",
   "metadata": {},
   "outputs": [
    {
     "name": "stderr",
     "output_type": "stream",
     "text": [
      "C:\\Users\\angel\\AppData\\Local\\Temp\\ipykernel_2084\\1075172920.py:1: DtypeWarning: Columns (40) have mixed types. Specify dtype option on import or set low_memory=False.\n",
      "  data2=pd.read_csv('./datos/Enaho01-2020-200.csv',encoding='latin')\n",
      "C:\\Users\\angel\\AppData\\Local\\Temp\\ipykernel_2084\\1075172920.py:1: DtypeWarning: Columns (40) have mixed types. Specify dtype option on import or set low_memory=False.\n",
      "  data2=pd.read_csv('./datos/Enaho01-2020-200.csv',encoding='latin')\n"
     ]
    },
    {
     "data": {
      "text/plain": [
       "Index(['AÑO', 'MES', 'CONGLOME', 'VIVIENDA', 'HOGAR', 'CODPERSO', 'UBIGEO',\n",
       "       'DOMINIO', 'ESTRATO', 'P201P', 'P203', 'P203A', 'P203B', 'P204', 'P205',\n",
       "       'P206', 'P207', 'P208A', 'P208B', 'P209', 'P210', 'P211A', 'P211D',\n",
       "       'P212', 'P213', 'P214', 'P215', 'P216', 'P217', 'T211', 'OCUPAC_R3',\n",
       "       'OCUPAC_R4', 'RAMA_R3', 'RAMA_R4', 'CODTAREA', 'CODTIEMPO', 'TICUEST01',\n",
       "       'TIPOCUESTIONARIO', 'TIPOENTREVISTA', 'FACPOB07', 'FACTOR_P',\n",
       "       'NCONGLOME', 'SUB_CONGLOME'],\n",
       "      dtype='object')"
      ]
     },
     "execution_count": 8,
     "metadata": {},
     "output_type": "execute_result"
    },
    {
     "data": {
      "text/plain": [
       "Index(['AÑO', 'MES', 'CONGLOME', 'VIVIENDA', 'HOGAR', 'CODPERSO', 'UBIGEO',\n",
       "       'DOMINIO', 'ESTRATO', 'P201P', 'P203', 'P203A', 'P203B', 'P204', 'P205',\n",
       "       'P206', 'P207', 'P208A', 'P208B', 'P209', 'P210', 'P211A', 'P211D',\n",
       "       'P212', 'P213', 'P214', 'P215', 'P216', 'P217', 'T211', 'OCUPAC_R3',\n",
       "       'OCUPAC_R4', 'RAMA_R3', 'RAMA_R4', 'CODTAREA', 'CODTIEMPO', 'TICUEST01',\n",
       "       'TIPOCUESTIONARIO', 'TIPOENTREVISTA', 'FACPOB07', 'FACTOR_P',\n",
       "       'NCONGLOME', 'SUB_CONGLOME'],\n",
       "      dtype='object')"
      ]
     },
     "execution_count": 8,
     "metadata": {},
     "output_type": "execute_result"
    }
   ],
   "source": [
    "data2=pd.read_csv('./datos/Enaho01-2020-200.csv',encoding='latin')\n",
    "data2.columns"
   ]
  },
  {
   "cell_type": "code",
   "execution_count": 9,
   "id": "32375a35",
   "metadata": {},
   "outputs": [
    {
     "data": {
      "text/html": [
       "<div>\n",
       "<style scoped>\n",
       "    .dataframe tbody tr th:only-of-type {\n",
       "        vertical-align: middle;\n",
       "    }\n",
       "\n",
       "    .dataframe tbody tr th {\n",
       "        vertical-align: top;\n",
       "    }\n",
       "\n",
       "    .dataframe thead th {\n",
       "        text-align: right;\n",
       "    }\n",
       "</style>\n",
       "<table border=\"1\" class=\"dataframe\">\n",
       "  <thead>\n",
       "    <tr style=\"text-align: right;\">\n",
       "      <th></th>\n",
       "      <th>CONGLOME</th>\n",
       "      <th>VIVIENDA</th>\n",
       "      <th>HOGAR</th>\n",
       "      <th>UBIGEO</th>\n",
       "      <th>P207</th>\n",
       "      <th>P208A</th>\n",
       "      <th>P209</th>\n",
       "    </tr>\n",
       "  </thead>\n",
       "  <tbody>\n",
       "    <tr>\n",
       "      <th>0</th>\n",
       "      <td>5009</td>\n",
       "      <td>12</td>\n",
       "      <td>11</td>\n",
       "      <td>10101</td>\n",
       "      <td>2</td>\n",
       "      <td>49</td>\n",
       "      <td>5</td>\n",
       "    </tr>\n",
       "    <tr>\n",
       "      <th>1</th>\n",
       "      <td>5009</td>\n",
       "      <td>12</td>\n",
       "      <td>11</td>\n",
       "      <td>10101</td>\n",
       "      <td>2</td>\n",
       "      <td>16</td>\n",
       "      <td>6</td>\n",
       "    </tr>\n",
       "    <tr>\n",
       "      <th>2</th>\n",
       "      <td>5009</td>\n",
       "      <td>41</td>\n",
       "      <td>11</td>\n",
       "      <td>10101</td>\n",
       "      <td>2</td>\n",
       "      <td>61</td>\n",
       "      <td>6</td>\n",
       "    </tr>\n",
       "    <tr>\n",
       "      <th>3</th>\n",
       "      <td>5009</td>\n",
       "      <td>41</td>\n",
       "      <td>11</td>\n",
       "      <td>10101</td>\n",
       "      <td>2</td>\n",
       "      <td>29</td>\n",
       "      <td>6</td>\n",
       "    </tr>\n",
       "    <tr>\n",
       "      <th>4</th>\n",
       "      <td>5009</td>\n",
       "      <td>41</td>\n",
       "      <td>11</td>\n",
       "      <td>10101</td>\n",
       "      <td>2</td>\n",
       "      <td>10</td>\n",
       "      <td></td>\n",
       "    </tr>\n",
       "  </tbody>\n",
       "</table>\n",
       "</div>"
      ],
      "text/plain": [
       "   CONGLOME  VIVIENDA  HOGAR  UBIGEO P207 P208A P209\n",
       "0      5009        12     11   10101    2    49    5\n",
       "1      5009        12     11   10101    2    16    6\n",
       "2      5009        41     11   10101    2    61    6\n",
       "3      5009        41     11   10101    2    29    6\n",
       "4      5009        41     11   10101    2    10     "
      ]
     },
     "execution_count": 9,
     "metadata": {},
     "output_type": "execute_result"
    },
    {
     "data": {
      "text/html": [
       "<div>\n",
       "<style scoped>\n",
       "    .dataframe tbody tr th:only-of-type {\n",
       "        vertical-align: middle;\n",
       "    }\n",
       "\n",
       "    .dataframe tbody tr th {\n",
       "        vertical-align: top;\n",
       "    }\n",
       "\n",
       "    .dataframe thead th {\n",
       "        text-align: right;\n",
       "    }\n",
       "</style>\n",
       "<table border=\"1\" class=\"dataframe\">\n",
       "  <thead>\n",
       "    <tr style=\"text-align: right;\">\n",
       "      <th></th>\n",
       "      <th>CONGLOME</th>\n",
       "      <th>VIVIENDA</th>\n",
       "      <th>HOGAR</th>\n",
       "      <th>UBIGEO</th>\n",
       "      <th>P207</th>\n",
       "      <th>P208A</th>\n",
       "      <th>P209</th>\n",
       "    </tr>\n",
       "  </thead>\n",
       "  <tbody>\n",
       "    <tr>\n",
       "      <th>0</th>\n",
       "      <td>5009</td>\n",
       "      <td>12</td>\n",
       "      <td>11</td>\n",
       "      <td>10101</td>\n",
       "      <td>2</td>\n",
       "      <td>49</td>\n",
       "      <td>5</td>\n",
       "    </tr>\n",
       "    <tr>\n",
       "      <th>1</th>\n",
       "      <td>5009</td>\n",
       "      <td>12</td>\n",
       "      <td>11</td>\n",
       "      <td>10101</td>\n",
       "      <td>2</td>\n",
       "      <td>16</td>\n",
       "      <td>6</td>\n",
       "    </tr>\n",
       "    <tr>\n",
       "      <th>2</th>\n",
       "      <td>5009</td>\n",
       "      <td>41</td>\n",
       "      <td>11</td>\n",
       "      <td>10101</td>\n",
       "      <td>2</td>\n",
       "      <td>61</td>\n",
       "      <td>6</td>\n",
       "    </tr>\n",
       "    <tr>\n",
       "      <th>3</th>\n",
       "      <td>5009</td>\n",
       "      <td>41</td>\n",
       "      <td>11</td>\n",
       "      <td>10101</td>\n",
       "      <td>2</td>\n",
       "      <td>29</td>\n",
       "      <td>6</td>\n",
       "    </tr>\n",
       "    <tr>\n",
       "      <th>4</th>\n",
       "      <td>5009</td>\n",
       "      <td>41</td>\n",
       "      <td>11</td>\n",
       "      <td>10101</td>\n",
       "      <td>2</td>\n",
       "      <td>10</td>\n",
       "      <td></td>\n",
       "    </tr>\n",
       "  </tbody>\n",
       "</table>\n",
       "</div>"
      ],
      "text/plain": [
       "   CONGLOME  VIVIENDA  HOGAR  UBIGEO P207 P208A P209\n",
       "0      5009        12     11   10101    2    49    5\n",
       "1      5009        12     11   10101    2    16    6\n",
       "2      5009        41     11   10101    2    61    6\n",
       "3      5009        41     11   10101    2    29    6\n",
       "4      5009        41     11   10101    2    10     "
      ]
     },
     "execution_count": 9,
     "metadata": {},
     "output_type": "execute_result"
    }
   ],
   "source": [
    "data2 = data2[['CONGLOME','VIVIENDA','HOGAR','UBIGEO',\"P207\",\"P208A\",\"P209\"]]\n",
    "data2.head()"
   ]
  },
  {
   "cell_type": "code",
   "execution_count": 10,
   "id": "e5e9d0eb",
   "metadata": {},
   "outputs": [
    {
     "name": "stderr",
     "output_type": "stream",
     "text": [
      "C:\\Users\\angel\\AppData\\Local\\Temp\\ipykernel_2084\\2307397744.py:1: DtypeWarning: Columns (12,13,26,32,59,130,296,311,559,560,565) have mixed types. Specify dtype option on import or set low_memory=False.\n",
      "  data3=pd.read_csv('./datos/Enaho01A-2020-300.csv',encoding='latin')\n",
      "C:\\Users\\angel\\AppData\\Local\\Temp\\ipykernel_2084\\2307397744.py:1: DtypeWarning: Columns (12,13,26,32,59,130,296,311,559,560,565) have mixed types. Specify dtype option on import or set low_memory=False.\n",
      "  data3=pd.read_csv('./datos/Enaho01A-2020-300.csv',encoding='latin')\n"
     ]
    },
    {
     "data": {
      "text/plain": [
       "Index(['AÑO', 'MES', 'CONGLOME', 'VIVIENDA', 'HOGAR', 'CODPERSO', 'UBIGEO',\n",
       "       'DOMINIO', 'ESTRATO', 'CODINFOR',\n",
       "       ...\n",
       "       'I3120C', 'NIVEL', 'TICUEST01A', 'TIPOCUESTIONARIO', 'TIPOENTREVISTA',\n",
       "       'FACTOR07', 'FACTORA07', 'FACTORA_P', 'NCONGLOME', 'SUB_CONGLOME'],\n",
       "      dtype='object', length=568)"
      ]
     },
     "execution_count": 10,
     "metadata": {},
     "output_type": "execute_result"
    },
    {
     "data": {
      "text/plain": [
       "Index(['AÑO', 'MES', 'CONGLOME', 'VIVIENDA', 'HOGAR', 'CODPERSO', 'UBIGEO',\n",
       "       'DOMINIO', 'ESTRATO', 'CODINFOR',\n",
       "       ...\n",
       "       'I3120C', 'NIVEL', 'TICUEST01A', 'TIPOCUESTIONARIO', 'TIPOENTREVISTA',\n",
       "       'FACTOR07', 'FACTORA07', 'FACTORA_P', 'NCONGLOME', 'SUB_CONGLOME'],\n",
       "      dtype='object', length=568)"
      ]
     },
     "execution_count": 10,
     "metadata": {},
     "output_type": "execute_result"
    }
   ],
   "source": [
    "data3=pd.read_csv('./datos/Enaho01A-2020-300.csv',encoding='latin')\n",
    "data3.columns"
   ]
  },
  {
   "cell_type": "code",
   "execution_count": null,
   "id": "253245de",
   "metadata": {},
   "outputs": [],
   "source": [
    "data3= data3[['CONGLOME','VIVIENDA','HOGAR','UBIGEO',\"P301A\"]]\n",
    "data3.head()"
   ]
  },
  {
   "cell_type": "code",
   "execution_count": null,
   "id": "b89af31b",
   "metadata": {},
   "outputs": [],
   "source": [
    "data5=pd.read_csv('./datos/Enaho01A-2020-500.csv',encoding='latin')\n",
    "data5.columns"
   ]
  },
  {
   "cell_type": "code",
   "execution_count": null,
   "id": "88ce461d",
   "metadata": {},
   "outputs": [],
   "source": [
    "data5= data5[['CONGLOME','VIVIENDA','HOGAR','UBIGEO',\"P524A1\",\"P523\"]]\n",
    "data5.head()"
   ]
  },
  {
   "cell_type": "code",
   "execution_count": null,
   "id": "37f2bf31",
   "metadata": {},
   "outputs": [],
   "source": [
    "d1 = pd.merge(data1, data2, on=['CONGLOME','VIVIENDA','HOGAR','UBIGEO'])"
   ]
  },
  {
   "cell_type": "code",
   "execution_count": null,
   "id": "d3b8a32a",
   "metadata": {},
   "outputs": [],
   "source": [
    "d2 = pd.merge(d1, data3,  on=['CONGLOME','VIVIENDA','HOGAR','UBIGEO'])"
   ]
  },
  {
   "cell_type": "code",
   "execution_count": null,
   "id": "0a9fa668",
   "metadata": {},
   "outputs": [],
   "source": [
    "d3 = pd.merge(d2, data5,  on=['CONGLOME','VIVIENDA','HOGAR','UBIGEO'])\n",
    "d3"
   ]
  },
  {
   "cell_type": "code",
   "execution_count": null,
   "id": "8f432987",
   "metadata": {},
   "outputs": [],
   "source": [
    "d3 = d3.rename(columns = {'P107E':'prob_pago',\n",
    "                        'P107D4': 'MONTO_CREDITO',\n",
    "                        'P207': 'SEXO',\n",
    "                         'P208A': 'EDAD',\n",
    "                         'P209': 'ESTADO_CIVIL',\n",
    "                         'P301A': 'EDUCACION',\n",
    "                         'P524A1': 'INGRESO',\n",
    "                         'P523': 'INGRESO_T',\n",
    "                        'P105A': \"T_VIVIENDA\"\n",
    "})"
   ]
  },
  {
   "cell_type": "code",
   "execution_count": null,
   "id": "6475eaaa",
   "metadata": {},
   "outputs": [],
   "source": [
    "d3.head()"
   ]
  },
  {
   "cell_type": "code",
   "execution_count": null,
   "id": "8f2d9ec8",
   "metadata": {},
   "outputs": [],
   "source": [
    "d3.dtypes"
   ]
  },
  {
   "cell_type": "code",
   "execution_count": null,
   "id": "09ab6414",
   "metadata": {},
   "outputs": [],
   "source": [
    "base= d3.copy()"
   ]
  },
  {
   "cell_type": "code",
   "execution_count": null,
   "id": "f5d98573",
   "metadata": {},
   "outputs": [],
   "source": [
    "base.isnull().sum()"
   ]
  },
  {
   "cell_type": "markdown",
   "id": "80034e52",
   "metadata": {},
   "source": [
    "## Variables cualitativas"
   ]
  },
  {
   "cell_type": "code",
   "execution_count": null,
   "id": "eb74c287",
   "metadata": {},
   "outputs": [],
   "source": [
    "base['MONTO_CREDITO']=pd.to_numeric(base['MONTO_CREDITO'], errors='coerce')\n",
    "base['EDAD']=pd.to_numeric(base['EDAD'], errors='coerce')\n",
    "base['INGRESO']=pd.to_numeric(base['INGRESO'], errors='coerce')"
   ]
  },
  {
   "cell_type": "code",
   "execution_count": null,
   "id": "47098434",
   "metadata": {},
   "outputs": [],
   "source": [
    "base[['MONTO_CREDITO','EDAD','INGRESO']].head()"
   ]
  },
  {
   "cell_type": "markdown",
   "id": "84561eaa",
   "metadata": {},
   "source": [
    "## Filtro a los NAs"
   ]
  },
  {
   "cell_type": "code",
   "execution_count": null,
   "id": "de2782c8",
   "metadata": {},
   "outputs": [],
   "source": [
    "base= base[base[\"MONTO_CREDITO\"].notnull() & base[\"INGRESO\"].notnull() & base[\"INGRESO_T\"].notnull()]\n",
    "base.tail()"
   ]
  },
  {
   "cell_type": "code",
   "execution_count": null,
   "id": "ed577ad6",
   "metadata": {},
   "outputs": [],
   "source": [
    "base.info()"
   ]
  },
  {
   "cell_type": "markdown",
   "id": "b2b1b840",
   "metadata": {},
   "source": [
    "## Crear la variable ingreso mensual"
   ]
  },
  {
   "cell_type": "code",
   "execution_count": null,
   "id": "13526ba4",
   "metadata": {},
   "outputs": [],
   "source": [
    "base['INGRESO']=base['INGRESO'].apply(np.int64)\n",
    "base['INGRESO'].head()\n",
    "base['INGRESO_T']=base['INGRESO_T'].apply(np.int64)\n",
    "base['INGRESO_T'].head()"
   ]
  },
  {
   "cell_type": "code",
   "execution_count": null,
   "id": "74f8bb0e",
   "metadata": {},
   "outputs": [],
   "source": [
    "base['iNGRESO_MENSUAL']=base['INGRESO']*base['INGRESO_T']\n",
    "base['iNGRESO_MENSUAL'].head()"
   ]
  },
  {
   "cell_type": "markdown",
   "id": "f8ec543e",
   "metadata": {},
   "source": [
    "## Crear la variable area urbana / rural"
   ]
  },
  {
   "cell_type": "code",
   "execution_count": null,
   "id": "a6315009",
   "metadata": {},
   "outputs": [],
   "source": [
    "base['ESTRATO']= base['ESTRATO'].replace({1:1,2:1,3:1,4:1,5:1,6:0,7:0,8:0})\n",
    "base['ESTRATO']"
   ]
  },
  {
   "cell_type": "code",
   "execution_count": null,
   "id": "1d9b4e8f",
   "metadata": {},
   "outputs": [],
   "source": [
    "base.head()"
   ]
  },
  {
   "cell_type": "code",
   "execution_count": null,
   "id": "8fd004f4",
   "metadata": {},
   "outputs": [],
   "source": [
    "## Explorando variable educacion"
   ]
  },
  {
   "cell_type": "code",
   "execution_count": null,
   "id": "8e8ce3bc",
   "metadata": {},
   "outputs": [],
   "source": [
    "base[\"EDUCACION\"].value_counts()"
   ]
  },
  {
   "cell_type": "code",
   "execution_count": null,
   "id": "88e1e07b",
   "metadata": {},
   "outputs": [],
   "source": [
    "base['EDUCACION']= base['EDUCACION'].replace({1:'No graduado', 2:'No graduado',3:'No graduado', 4:'No graduado',5:'No graduado',\n",
    "                                          6:'No graduado', 7:'No graduado',8:'No graduado',9:'No graduado',\n",
    "                                          10:'Graduado', 11:'Graduado', 12:'No graduado', '10':'Graduado',\n",
    "                                          '1':'No graduado', '2':'No graduado','3':'No graduado','4':'No graduado',\n",
    "                                          '5':'No graduado', '6':'No graduado', '7':'No graduado','8':'No graduado',\n",
    "                                          '9':'No graduado',  '11':'Graduado'\n",
    "                                         })\n",
    "base[\"EDUCACION\"].value_counts()"
   ]
  },
  {
   "cell_type": "markdown",
   "id": "9e6525a4",
   "metadata": {},
   "source": [
    "# Filtrar mayores de 18 años"
   ]
  },
  {
   "cell_type": "code",
   "execution_count": null,
   "id": "d38c91df",
   "metadata": {},
   "outputs": [],
   "source": [
    "base= base[base[\"EDAD\"]>=18]\n",
    "base.tail()"
   ]
  },
  {
   "cell_type": "markdown",
   "id": "a67388bc",
   "metadata": {},
   "source": [
    "## Base a trabajar"
   ]
  },
  {
   "cell_type": "code",
   "execution_count": null,
   "id": "6f53b727",
   "metadata": {},
   "outputs": [],
   "source": [
    "base_final = base.drop(columns=['CONGLOME', 'VIVIENDA','HOGAR','INGRESO_T', 'INGRESO'])\n",
    "base_final.head()"
   ]
  },
  {
   "cell_type": "code",
   "execution_count": null,
   "id": "66bbb21b",
   "metadata": {},
   "outputs": [],
   "source": [
    "base_final.dtypes"
   ]
  },
  {
   "cell_type": "code",
   "execution_count": null,
   "id": "9391d096",
   "metadata": {},
   "outputs": [],
   "source": [
    "base_final.describe()"
   ]
  },
  {
   "cell_type": "code",
   "execution_count": null,
   "id": "89f43c29",
   "metadata": {},
   "outputs": [],
   "source": [
    "base_final.describe(include=\"O\")"
   ]
  },
  {
   "cell_type": "code",
   "execution_count": null,
   "id": "ff122d6f",
   "metadata": {},
   "outputs": [],
   "source": [
    "base_final[\"prob_pago\"].value_counts()"
   ]
  },
  {
   "cell_type": "code",
   "execution_count": null,
   "id": "3005aabc",
   "metadata": {},
   "outputs": [],
   "source": [
    "#Diferenciamos variables continuas, de las categoricas\n",
    "cols_continuas = [\"EDAD\",\"ESTRATO\", \"iNGRESO_MENSUAL\"]\n",
    "cols_categoricas = [\"SEXO\",\"ESTADO_CIVIL\",\"EDUCACION\", \"T_VIVIENDA\"]"
   ]
  },
  {
   "cell_type": "code",
   "execution_count": null,
   "id": "ea5f45b0",
   "metadata": {},
   "outputs": [],
   "source": [
    "for c in cols_continuas:\n",
    "    fig, ax = plt.subplots()\n",
    "    base_final[c].hist(bins=50, ax= ax)\n",
    "    ax.set_title(c)\n",
    "    plt.show()"
   ]
  },
  {
   "cell_type": "code",
   "execution_count": null,
   "id": "03a62e04",
   "metadata": {},
   "outputs": [],
   "source": [
    "for c in cols_categoricas:\n",
    "    fig, ax = plt.subplots()\n",
    "    sns.countplot(x =c, data = base_final)\n",
    "    ax.set_title(c)\n",
    "    plt.show()"
   ]
  },
  {
   "cell_type": "code",
   "execution_count": null,
   "id": "ef8bb69f",
   "metadata": {},
   "outputs": [],
   "source": [
    "## Evaluar valores extremos"
   ]
  },
  {
   "cell_type": "code",
   "execution_count": null,
   "id": "fd2cc8dc",
   "metadata": {},
   "outputs": [],
   "source": [
    "df_aux = pd.DataFrame()\n",
    "\n",
    "for c in cols_continuas:\n",
    "    p1 = base_final[c].quantile(0.01) \n",
    "    p5 = base_final[c].quantile(0.05)\n",
    "    p95 = base_final[c].quantile(0.95)\n",
    "    p99 = base_final[c].quantile(0.99)\n",
    "    lst = [[c,p1,p5,p95,p99]]\n",
    "    df_temp = pd.DataFrame(lst, columns =['Variable', 'P1','P5','P95','P99'])\n",
    "    df_aux = df_aux.append(df_temp)\n",
    "    df_aux.reset_index(drop=True,inplace=True)"
   ]
  },
  {
   "cell_type": "code",
   "execution_count": null,
   "id": "7aeeebc8",
   "metadata": {},
   "outputs": [],
   "source": [
    "df_aux.head()"
   ]
  },
  {
   "cell_type": "code",
   "execution_count": null,
   "id": "04f376d5",
   "metadata": {},
   "outputs": [],
   "source": [
    "cols= df_aux[\"Variable\"].unique()"
   ]
  },
  {
   "cell_type": "code",
   "execution_count": null,
   "id": "e616a377",
   "metadata": {},
   "outputs": [],
   "source": [
    "for c in cols:\n",
    "    cota_izquierda = df_aux.loc[df_aux[\"Variable\"] == c,\"P5\"].values[0]\n",
    "    cota_derecha = df_aux.loc[df_aux[\"Variable\"] == c ,\"P95\"].values[0]\n",
    "    base_final[c] = base_final[c].astype(\"float64\")\n",
    "    base_final.loc[base_final[c] > cota_derecha,c] = cota_derecha\n",
    "    base_final.loc[base_final[c] < cota_izquierda,c] = cota_izquierda"
   ]
  },
  {
   "cell_type": "code",
   "execution_count": null,
   "id": "4266fbf1",
   "metadata": {},
   "outputs": [],
   "source": [
    "for c in cols_continuas:\n",
    "    fig, ax = plt.subplots()\n",
    "    base_final[c].hist(bins=50, ax= ax)\n",
    "    ax.set_title(c)\n",
    "    plt.show()"
   ]
  },
  {
   "cell_type": "code",
   "execution_count": null,
   "id": "5355c7e9",
   "metadata": {},
   "outputs": [],
   "source": [
    "## Recodificando valores"
   ]
  },
  {
   "cell_type": "code",
   "execution_count": null,
   "id": "eaa1d375",
   "metadata": {},
   "outputs": [],
   "source": [
    "base_final['EDUCACION'] = base_final['EDUCACION'].replace({'Graduado': 1,'No graduado': 2})\n",
    "base_final['EDUCACION'].value_counts()"
   ]
  },
  {
   "cell_type": "code",
   "execution_count": null,
   "id": "b5fa47a0",
   "metadata": {},
   "outputs": [],
   "source": [
    "base_final['prob_pago'] = base_final['prob_pago'].replace({'2': 0})\n",
    "base_final['prob_pago'].value_counts()"
   ]
  },
  {
   "cell_type": "code",
   "execution_count": null,
   "id": "c527830e",
   "metadata": {},
   "outputs": [],
   "source": [
    "base_final['T_VIVIENDA'] = base_final['T_VIVIENDA'].replace({'2': 1,'3': 1,'4': 1,'5': 0, 6: 0, 5: 0,3: 1})\n",
    "base_final['T_VIVIENDA'].value_counts()"
   ]
  },
  {
   "cell_type": "code",
   "execution_count": null,
   "id": "e9f64302",
   "metadata": {},
   "outputs": [],
   "source": [
    "base_final.head()"
   ]
  },
  {
   "cell_type": "markdown",
   "id": "883f476d",
   "metadata": {},
   "source": [
    "### Particionar la muestra "
   ]
  },
  {
   "cell_type": "code",
   "execution_count": null,
   "id": "0e3f72a0",
   "metadata": {},
   "outputs": [],
   "source": [
    "X, y = base_final.drop(columns = [\"prob_pago\"]), base_final[\"prob_pago\"]"
   ]
  },
  {
   "cell_type": "code",
   "execution_count": null,
   "id": "7e979141",
   "metadata": {},
   "outputs": [],
   "source": [
    "from sklearn.model_selection import train_test_split\n",
    "X_train, X_test, y_train, y_test = train_test_split( X, y, test_size=0.3, random_state=4)"
   ]
  },
  {
   "cell_type": "code",
   "execution_count": null,
   "id": "ed6bcd87",
   "metadata": {},
   "outputs": [],
   "source": [
    "print ('Train set:', X_train.shape,  y_train.shape)\n",
    "print ('Test set:', X_test.shape,  y_test.shape)"
   ]
  },
  {
   "cell_type": "code",
   "execution_count": null,
   "id": "e9f79e30",
   "metadata": {},
   "outputs": [],
   "source": [
    "df_train = pd.concat([X_train, y_train], axis=1)\n",
    "df_test = pd.concat([X_test, y_test], axis=1)"
   ]
  },
  {
   "cell_type": "code",
   "execution_count": null,
   "id": "8c320615",
   "metadata": {},
   "outputs": [],
   "source": [
    "df_train.head()"
   ]
  },
  {
   "cell_type": "code",
   "execution_count": null,
   "id": "f7a7ce35",
   "metadata": {},
   "outputs": [],
   "source": [
    "df_test.head()"
   ]
  },
  {
   "cell_type": "code",
   "execution_count": null,
   "id": "a12fe1d3",
   "metadata": {},
   "outputs": [],
   "source": [
    "### Analisis missings"
   ]
  },
  {
   "cell_type": "code",
   "execution_count": null,
   "id": "390a4f52",
   "metadata": {},
   "outputs": [],
   "source": [
    "def num_missing(x):\n",
    "    return sum(x.isnull())\n",
    "\n",
    "#Aplicamos por columna:\n",
    "print (\"Valores perdidos por columna\")\n",
    "print (df_train.apply(num_missing, axis=0))"
   ]
  },
  {
   "cell_type": "code",
   "execution_count": null,
   "id": "8f475e31",
   "metadata": {},
   "outputs": [],
   "source": [
    "target =\"prob_pago\""
   ]
  },
  {
   "cell_type": "code",
   "execution_count": null,
   "id": "b9163e6f",
   "metadata": {},
   "outputs": [],
   "source": [
    "from scipy.stats import mode\n",
    "\n",
    "for column in cols_categoricas:\n",
    "    if column != target:\n",
    "        df_train[column] = df_train[column].fillna(df_train[column].mode()[0])\n",
    "    \n",
    "for column in cols_continuas:\n",
    "    if column != target:\n",
    "        df_train[column] = df_train[column].fillna(df_train[column].median())"
   ]
  },
  {
   "cell_type": "raw",
   "id": "cb9e25ef",
   "metadata": {},
   "source": [
    "#Aplicamos por columna:\n",
    "print (\"Valores perdidos por columna\")\n",
    "print (df_train.apply(num_missing, axis=0))"
   ]
  },
  {
   "cell_type": "raw",
   "id": "5553464c",
   "metadata": {},
   "source": [
    "#Aplicamos lo mismo al test para imputacion\n",
    "from scipy.stats import mode\n",
    "\n",
    "for column in cols_categoricas:\n",
    "    if column != target:\n",
    "        df_test[column] = df_test[column].fillna(df_train[column].mode()[0])\n",
    "    \n",
    "for column in cols_continuas:\n",
    "    if column != target:\n",
    "        df_test[column] = df_test[column].fillna(df_train[column].median())"
   ]
  },
  {
   "cell_type": "markdown",
   "id": "6b99001a",
   "metadata": {},
   "source": [
    "### Balanceo de datos "
   ]
  },
  {
   "cell_type": "markdown",
   "id": "d97d92ba",
   "metadata": {},
   "source": [
    "Se evalua la distribución de las clases a predecir, en nuestro caso de loans prediction es 2 y 1 las clases, siendo 1 el evento de interes de que si hizo default o impago la persona."
   ]
  },
  {
   "cell_type": "code",
   "execution_count": null,
   "id": "bb2c84e9",
   "metadata": {},
   "outputs": [],
   "source": [
    "df_train[\"prob_pago\"].value_counts()"
   ]
  },
  {
   "cell_type": "code",
   "execution_count": null,
   "id": "4028f3e6",
   "metadata": {},
   "outputs": [],
   "source": [
    "cols = df_train.columns"
   ]
  },
  {
   "cell_type": "code",
   "execution_count": null,
   "id": "4c6346bd",
   "metadata": {},
   "outputs": [],
   "source": [
    "X, y = df_train.drop(columns = [target]), df_train[\"prob_pago\"]"
   ]
  },
  {
   "cell_type": "code",
   "execution_count": null,
   "id": "b2a03cd9",
   "metadata": {},
   "outputs": [],
   "source": [
    "X.head()"
   ]
  },
  {
   "cell_type": "code",
   "execution_count": null,
   "id": "f6d26b2b",
   "metadata": {},
   "outputs": [],
   "source": [
    "y.head()"
   ]
  },
  {
   "cell_type": "code",
   "execution_count": null,
   "id": "ceeedfcb",
   "metadata": {},
   "outputs": [],
   "source": [
    "#pip install imbalanced-learn"
   ]
  },
  {
   "cell_type": "code",
   "execution_count": null,
   "id": "77ec91ca",
   "metadata": {},
   "outputs": [],
   "source": [
    "#pip install imblearn"
   ]
  },
  {
   "cell_type": "code",
   "execution_count": null,
   "id": "8069508d",
   "metadata": {},
   "outputs": [],
   "source": [
    "from imblearn.over_sampling import SMOTE "
   ]
  },
  {
   "cell_type": "code",
   "execution_count": null,
   "id": "08073c3a",
   "metadata": {},
   "outputs": [],
   "source": [
    "from imblearn.over_sampling import SMOTE\n",
    "\n",
    "smote = SMOTE()\n",
    "X_sm, y_sm = smote.fit_resample(X, y)\n",
    "\n",
    "columns_X = X.columns\n",
    "columns_y = [target]\n",
    "\n",
    "df_X_sm = pd.DataFrame(data=X_sm,columns=columns_X)\n",
    "df_y_sm = pd.DataFrame(data=y_sm,columns=columns_y)\n",
    "\n",
    "# Concatenamos la información\n",
    "df_balanceado_sm = pd.concat([df_X_sm, df_y_sm], axis=1)"
   ]
  },
  {
   "cell_type": "code",
   "execution_count": null,
   "id": "6cb61d16",
   "metadata": {},
   "outputs": [],
   "source": [
    "df_balanceado_sm[\"prob_pago\"].value_counts()"
   ]
  },
  {
   "cell_type": "code",
   "execution_count": null,
   "id": "081ed0f9",
   "metadata": {},
   "outputs": [],
   "source": [
    "df_balanceado_sm.shape"
   ]
  },
  {
   "cell_type": "code",
   "execution_count": null,
   "id": "a4bc0da3",
   "metadata": {},
   "outputs": [],
   "source": [
    "X_ros = df_X_sm\n",
    "y_ros = df_y_sm"
   ]
  },
  {
   "cell_type": "markdown",
   "id": "d1863c11",
   "metadata": {},
   "source": [
    "### Selección de Variables"
   ]
  },
  {
   "cell_type": "code",
   "execution_count": null,
   "id": "91886cc1",
   "metadata": {},
   "outputs": [],
   "source": [
    "# Feature Extraction with RFE\n",
    "from pandas import read_csv\n",
    "from sklearn.feature_selection import RFE\n",
    "from sklearn.linear_model import LogisticRegression\n",
    "\n",
    "# feature extraction\n",
    "model = LogisticRegression()\n",
    "rfe = RFE(model,8)\n",
    "fit = rfe.fit(X_ros, y_ros)"
   ]
  },
  {
   "cell_type": "code",
   "execution_count": null,
   "id": "88aafea8",
   "metadata": {},
   "outputs": [],
   "source": [
    "# horizontal bar plot of feature importance\n",
    "pos = np.arange(len(X_ros.columns)) + 0.5\n",
    "plt.barh(pos, fit.ranking_, align='center')\n",
    "plt.title(\"Feature Importance\")\n",
    "plt.xlabel(\"Número de Modelos\")\n",
    "plt.ylabel(\"Features\")\n",
    "plt.yticks(pos, (X.columns))\n",
    "plt.grid(True)"
   ]
  },
  {
   "cell_type": "code",
   "execution_count": null,
   "id": "065a583b",
   "metadata": {},
   "outputs": [],
   "source": [
    "fit.support_"
   ]
  },
  {
   "cell_type": "code",
   "execution_count": null,
   "id": "61487855",
   "metadata": {},
   "outputs": [],
   "source": [
    "features_selected = X.columns[fit.support_]"
   ]
  },
  {
   "cell_type": "code",
   "execution_count": null,
   "id": "18ea4d93",
   "metadata": {},
   "outputs": [],
   "source": [
    "features_selected"
   ]
  },
  {
   "cell_type": "code",
   "execution_count": null,
   "id": "42a790c5",
   "metadata": {},
   "outputs": [],
   "source": [
    "y_train = y_ros\n",
    "X_train = X_ros[features_selected]"
   ]
  },
  {
   "cell_type": "code",
   "execution_count": null,
   "id": "83f8946e",
   "metadata": {},
   "outputs": [],
   "source": [
    "from sklearn import model_selection\n",
    "from sklearn.model_selection import cross_val_score\n",
    "\n",
    "kfold = model_selection.KFold(n_splits=10)\n",
    "lr = LogisticRegression()\n",
    "scoring = 'accuracy'\n",
    "results = model_selection.cross_val_score(lr, X_train, y_train, cv=kfold, scoring=scoring)\n",
    "print(\"10-fold cross validation average accuracy: %.3f\" % (results.mean()))\n",
    "results"
   ]
  },
  {
   "cell_type": "code",
   "execution_count": null,
   "id": "55264b97",
   "metadata": {},
   "outputs": [],
   "source": [
    "### Evaluación del Modelo"
   ]
  },
  {
   "cell_type": "code",
   "execution_count": null,
   "id": "b22ae110",
   "metadata": {},
   "outputs": [],
   "source": [
    "from sklearn.metrics import classification_report\n",
    "from sklearn.metrics import log_loss\n",
    "from sklearn.metrics import (precision_score, recall_score,f1_score,accuracy_score)"
   ]
  },
  {
   "cell_type": "code",
   "execution_count": null,
   "id": "253c3297",
   "metadata": {},
   "outputs": [],
   "source": [
    "from sklearn.linear_model import LogisticRegression\n",
    "\n",
    "lr = LogisticRegression()\n",
    "lr.fit(X_train, y_train)"
   ]
  },
  {
   "cell_type": "code",
   "execution_count": null,
   "id": "b404c093",
   "metadata": {},
   "outputs": [],
   "source": [
    "X_test = df_test[features_selected]\n",
    "y_pred=lr.predict(X_test)\n",
    "yhat_prob = lr.predict_proba(X_test)"
   ]
  },
  {
   "cell_type": "code",
   "execution_count": null,
   "id": "433c9faf",
   "metadata": {},
   "outputs": [],
   "source": [
    "### Indicadores de rendimiento de modelos"
   ]
  },
  {
   "cell_type": "code",
   "execution_count": null,
   "id": "59389cc5",
   "metadata": {},
   "outputs": [],
   "source": [
    "# Obtenemos la matriz de confusión con las métricas anteriores\n",
    "print(classification_report(y_test, y_pred))"
   ]
  },
  {
   "cell_type": "code",
   "execution_count": null,
   "id": "7382c40a",
   "metadata": {},
   "outputs": [],
   "source": [
    "print(\"\\tIndicadores:\")\n",
    "print(\"\\t1. Accuracy: %1.3f\" % accuracy_score(y_test, y_pred))\n",
    "print(\"\\t2. Precision: %1.3f\" % precision_score(y_test, y_pred))\n",
    "print(\"\\t3. Recall: %1.3f\" % recall_score(y_test, y_pred))\n",
    "print(\"\\t4. F1: %1.3f\" % f1_score(y_test, y_pred))\n",
    "print(\"\\t5. Log loss: %1.3f\\n\" % log_loss(y_test, yhat_prob))"
   ]
  },
  {
   "cell_type": "code",
   "execution_count": null,
   "id": "0879bf73",
   "metadata": {},
   "outputs": [],
   "source": []
  },
  {
   "cell_type": "code",
   "execution_count": null,
   "id": "8b9baa6e",
   "metadata": {},
   "outputs": [],
   "source": []
  },
  {
   "cell_type": "code",
   "execution_count": null,
   "id": "c826a71b",
   "metadata": {},
   "outputs": [],
   "source": []
  },
  {
   "cell_type": "code",
   "execution_count": null,
   "id": "58cf3deb",
   "metadata": {},
   "outputs": [],
   "source": []
  }
 ],
 "metadata": {
  "hide_input": false,
  "kernelspec": {
   "display_name": "Python 3 (ipykernel)",
   "language": "python",
   "name": "python3"
  },
  "language_info": {
   "codemirror_mode": {
    "name": "ipython",
    "version": 3
   },
   "file_extension": ".py",
   "mimetype": "text/x-python",
   "name": "python",
   "nbconvert_exporter": "python",
   "pygments_lexer": "ipython3",
   "version": "3.9.12"
  },
  "toc": {
   "base_numbering": 1,
   "nav_menu": {},
   "number_sections": true,
   "sideBar": true,
   "skip_h1_title": false,
   "title_cell": "Table of Contents",
   "title_sidebar": "Contents",
   "toc_cell": false,
   "toc_position": {},
   "toc_section_display": true,
   "toc_window_display": true
  }
 },
 "nbformat": 4,
 "nbformat_minor": 5
}
